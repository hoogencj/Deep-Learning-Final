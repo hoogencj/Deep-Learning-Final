{
  "nbformat": 4,
  "nbformat_minor": 0,
  "metadata": {
    "colab": {
      "name": "NBABetting1.ipynb",
      "provenance": [],
      "collapsed_sections": [
        "7Fa8T_xafl8d"
      ],
      "authorship_tag": "ABX9TyNx16f+0UGTCipITuHH67Bg",
      "include_colab_link": true
    },
    "kernelspec": {
      "name": "python3",
      "display_name": "Python 3"
    },
    "language_info": {
      "name": "python"
    },
    "accelerator": "GPU"
  },
  "cells": [
    {
      "cell_type": "markdown",
      "metadata": {
        "id": "view-in-github",
        "colab_type": "text"
      },
      "source": [
        "<a href=\"https://colab.research.google.com/github/hoogencj/Deep-Learning-Final/blob/main/NBABetting1.ipynb\" target=\"_parent\"><img src=\"https://colab.research.google.com/assets/colab-badge.svg\" alt=\"Open In Colab\"/></a>"
      ]
    },
    {
      "cell_type": "markdown",
      "metadata": {
        "id": "LT08fYrGbrhQ"
      },
      "source": [
        "# Set Up"
      ]
    },
    {
      "cell_type": "code",
      "metadata": {
        "colab": {
          "base_uri": "https://localhost:8080/"
        },
        "id": "rJn4k0IF4Su4",
        "outputId": "a17f9403-f1a1-43af-c664-e2721aa7d86b"
      },
      "source": [
        "! pip install torch_utils"
      ],
      "execution_count": null,
      "outputs": [
        {
          "output_type": "stream",
          "text": [
            "Collecting torch_utils\n",
            "  Downloading https://files.pythonhosted.org/packages/f8/4d/d004b5af3acf5366b82c192e459b5a52fba4ced92dccce5ea0541e560900/torch-utils-0.1.2.tar.gz\n",
            "Requirement already satisfied: torch in /usr/local/lib/python3.7/dist-packages (from torch_utils) (1.8.1+cu101)\n",
            "Requirement already satisfied: typing-extensions in /usr/local/lib/python3.7/dist-packages (from torch->torch_utils) (3.7.4.3)\n",
            "Requirement already satisfied: numpy in /usr/local/lib/python3.7/dist-packages (from torch->torch_utils) (1.19.5)\n",
            "Building wheels for collected packages: torch-utils\n",
            "  Building wheel for torch-utils (setup.py) ... \u001b[?25l\u001b[?25hdone\n",
            "  Created wheel for torch-utils: filename=torch_utils-0.1.2-cp37-none-any.whl size=6191 sha256=1c7eec51ffbc168b05c8d037dbd36da644b88159b2d2d9c4d9651c26d68a71fc\n",
            "  Stored in directory: /root/.cache/pip/wheels/95/61/06/139d254fa820bc1e45087dba1d719bc7d4007aec98905179c7\n",
            "Successfully built torch-utils\n",
            "Installing collected packages: torch-utils\n",
            "Successfully installed torch-utils-0.1.2\n"
          ],
          "name": "stdout"
        }
      ]
    },
    {
      "cell_type": "code",
      "metadata": {
        "colab": {
          "base_uri": "https://localhost:8080/"
        },
        "id": "DBUfTBOJH-gH",
        "outputId": "5f95eff5-7404-4062-e0c2-6dad8f6ca9e0"
      },
      "source": [
        "%ls"
      ],
      "execution_count": null,
      "outputs": [
        {
          "output_type": "stream",
          "text": [
            "games_ordered.csv  nba_betting_spread.csv  nba_betting_totals.csv  \u001b[0m\u001b[01;34msample_data\u001b[0m/\n"
          ],
          "name": "stdout"
        }
      ]
    },
    {
      "cell_type": "code",
      "metadata": {
        "id": "o45Ia8gTFxhx"
      },
      "source": [
        "import numpy as np\n",
        "from numpy import inf\n",
        "import pandas as pd\n",
        "import seaborn as sns\n",
        "from tqdm.notebook import tqdm\n",
        "import matplotlib.pyplot as plt\n",
        "\n",
        "import torch\n",
        "from torch import cuda\n",
        "import torch.nn as nn\n",
        "import torch.optim as optim\n",
        "from torch.utils.data import Dataset, DataLoader, sampler\n",
        "import torch.nn.functional as F\n",
        "from torch_utils import AverageMeter\n",
        "\n",
        "from sklearn.preprocessing import MinMaxScaler    \n",
        "from sklearn.model_selection import train_test_split\n",
        "from sklearn.metrics import mean_squared_error, r2_score\n",
        "\n",
        "\n",
        "from IPython.core.interactiveshell import InteractiveShell\n",
        "InteractiveShell.ast_node_interactivity = \"all\"\n",
        "\n",
        "# import modules\n",
        "import math\n",
        "\n",
        "import torchvision\n",
        "\n",
        "from sklearn.model_selection import train_test_split\n",
        "import os\n",
        "from torchvision import transforms\n",
        "from torchvision import datasets\n",
        "from torchvision import models\n",
        "from torch import optim, cuda, Tensor\n",
        "\n",
        "from timeit import default_timer as timer\n",
        "\n",
        "import warnings\n",
        "warnings.filterwarnings('ignore', category=FutureWarning)"
      ],
      "execution_count": null,
      "outputs": []
    },
    {
      "cell_type": "markdown",
      "metadata": {
        "id": "jrVuwaXxbzEs"
      },
      "source": [
        "# Data Preparation"
      ]
    },
    {
      "cell_type": "code",
      "metadata": {
        "id": "HlK5ZbHvGMfl",
        "colab": {
          "base_uri": "https://localhost:8080/"
        },
        "outputId": "2d276299-b55f-4c98-fc80-e4221c5933f5"
      },
      "source": [
        "games = pd.read_csv('games_ordered.csv')\n",
        "# drop two duplicate columns\n",
        "games = games.drop(['TEAM_ID_home', 'TEAM_ID_away'], axis=1)\n",
        "for i in games:\n",
        "  print((i, games[i][0]))\n",
        "print(games)"
      ],
      "execution_count": null,
      "outputs": [
        {
          "output_type": "stream",
          "text": [
            "('GAME_DATE_EST', '10/5/2003')\n",
            "('GAME_ID', 10300001)\n",
            "('GAME_STATUS_TEXT', 'Final')\n",
            "('HOME_TEAM_ID', 1610612762)\n",
            "('VISITOR_TEAM_ID', 1610612742)\n",
            "('SEASON', 2003)\n",
            "('PTS_home', 90.0)\n",
            "('FG_PCT_home', 0.457)\n",
            "('FT_PCT_home', 0.735)\n",
            "('FG3_PCT_home', 0.14300000000000002)\n",
            "('AST_home', 23.0)\n",
            "('REB_home', 41.0)\n",
            "('PTS_away', 85.0)\n",
            "('FG_PCT_away', 0.447)\n",
            "('FT_PCT_away', 0.5)\n",
            "('FG3_PCT_away', 0.25)\n",
            "('AST_away', 20.0)\n",
            "('REB_away', 38.0)\n",
            "('HOME_TEAM_WINS', 1)\n",
            "      GAME_DATE_EST   GAME_ID  ... REB_away  HOME_TEAM_WINS\n",
            "0         10/5/2003  10300001  ...     38.0               1\n",
            "1         10/6/2003  10300002  ...     43.0               1\n",
            "2         10/7/2003  10300006  ...      NaN               0\n",
            "3         10/7/2003  10300010  ...     37.0               1\n",
            "4         10/7/2003  10300003  ...     52.0               0\n",
            "...             ...       ...  ...      ...             ...\n",
            "24190     3/21/2021  22000648  ...     37.0               1\n",
            "24191     3/21/2021  22000649  ...     52.0               0\n",
            "24192     3/21/2021  22000650  ...     44.0               0\n",
            "24193     3/21/2021  22000651  ...     41.0               1\n",
            "24194     3/21/2021  22000652  ...     52.0               0\n",
            "\n",
            "[24195 rows x 19 columns]\n"
          ],
          "name": "stdout"
        }
      ]
    },
    {
      "cell_type": "markdown",
      "metadata": {
        "id": "Ol8X76TDMPS-"
      },
      "source": [
        "Now we need to process the data to get the data we want. We define a function that builds each teams statsa for the last ten games before a given game. "
      ]
    },
    {
      "cell_type": "code",
      "metadata": {
        "colab": {
          "base_uri": "https://localhost:8080/"
        },
        "id": "gYU8c_DqC_F7",
        "outputId": "79e6ba72-7f16-49da-f48a-92d9d0f0dcc8"
      },
      "source": [
        "class team: \n",
        "  def __init__(self, games, team):\n",
        "    home = games.loc[games['HOME_TEAM_ID'] == team]\n",
        "    away = games.loc[games['VISITOR_TEAM_ID'] == team]\n",
        "\n",
        "    for i in home:\n",
        "      if i == 'HOME_TEAM_WINS':\n",
        "        home = home.rename({i: 'TEAM_WINS'}, axis=1)\n",
        "      elif 'away' in i:\n",
        "        home = home.rename({i: i.replace('away', 'against')}, axis=1)\n",
        "      else:\n",
        "        home = home.rename({i: i.replace('_home', '')}, axis=1)\n",
        "    \n",
        "    for i in away:\n",
        "      if i == 'HOME_TEAM_WINS':\n",
        "        away[i] = away[i].replace({0:1, 1:0})\n",
        "        away = away.rename({i: 'TEAM_WINS'}, axis=1)\n",
        "      elif 'home' in i:\n",
        "        away = away.rename({i: i.replace('home', 'against')}, axis=1)\n",
        "      else:\n",
        "        away = away.rename({i: i.replace('_away', '')}, axis=1)      \n",
        "\n",
        "    self.history = home.append(away).sort_index()\n",
        "\n",
        "  def getlastn(self, n, columns, index):\n",
        "    prev_index = index - 1\n",
        "    return self.history.loc[:prev_index].tail(n)[columns]\n",
        "\n",
        "  def get_avg_lastn(self, n, columns, index):\n",
        "    lastn = self.getlastn(n, columns, index)\n",
        "    lastn = lastn.agg('mean').rename(index)\n",
        "    return lastn\n",
        "\n",
        "  def get_season(self, columns, index): \n",
        "    prev_index = index - 1\n",
        "    season = self.history.loc[index]['SEASON']\n",
        "    history = self.history.loc[:prev_index]\n",
        "    history = history.loc[history['SEASON'] == season][columns]\n",
        "    return history\n",
        "\n",
        "  def get_season_avg(self, columns, index):\n",
        "    season = self.get_season(columns, index)\n",
        "    return season.agg('mean').rename(index)\n",
        "  \n",
        "  def print_history(self, n=0):\n",
        "    if n < 1:\n",
        "      print(self.history.to_string())\n",
        "    else:\n",
        "      print(self.history.head(n).to_string())\n",
        "\n",
        "team_ids = games['HOME_TEAM_ID'].unique()\n",
        "team_hist = {}\n",
        "for team_id in team_ids:\n",
        "  team_hist[team_id] = team(games,team_id)\n",
        "team_hist[team_ids[0]].print_history(5)"
      ],
      "execution_count": null,
      "outputs": [
        {
          "output_type": "stream",
          "text": [
            "   GAME_DATE_EST   GAME_ID GAME_STATUS_TEXT  HOME_TEAM_ID  VISITOR_TEAM_ID  SEASON   PTS  FG_PCT  FT_PCT  FG3_PCT   AST   REB  PTS_against  FG_PCT_against  FT_PCT_against  FG3_PCT_against  AST_against  REB_against  TEAM_WINS\n",
            "0      10/5/2003  10300001            Final    1610612762       1610612742    2003  90.0   0.457   0.735    0.143  23.0  41.0         85.0           0.447             0.5             0.25         20.0         38.0          1\n",
            "35    10/11/2003  10300038            Final    1610612762       1610612760    2003   NaN     NaN     NaN      NaN   NaN   NaN          NaN             NaN             NaN              NaN          NaN          NaN          0\n",
            "46    10/14/2003  10300052            Final    1610612762       1610612752    2003   NaN     NaN     NaN      NaN   NaN   NaN          NaN             NaN             NaN              NaN          NaN          NaN          0\n",
            "59    10/16/2003  10300061            Final    1610612762       1610612753    2003   NaN     NaN     NaN      NaN   NaN   NaN          NaN             NaN             NaN              NaN          NaN          NaN          0\n",
            "68    10/17/2003  10300065            Final    1610612762       1610612755    2003   NaN     NaN     NaN      NaN   NaN   NaN          NaN             NaN             NaN              NaN          NaN          NaN          0\n"
          ],
          "name": "stdout"
        }
      ]
    },
    {
      "cell_type": "code",
      "metadata": {
        "id": "_rl_K4zRo_VF"
      },
      "source": [
        "fields = ['PTS', 'FG_PCT', 'FT_PCT', 'FG3_PCT', 'AST', 'REB', 'PTS_against', 'FG_PCT_against', 'FT_PCT_against', 'FG3_PCT_against', 'AST_against', 'REB_against', 'TEAM_WINS']\n",
        "homeL10 = pd.DataFrame(columns=fields)\n",
        "awayL10 = pd.DataFrame(columns=fields)\n",
        "home_season = pd.DataFrame(columns=fields)\n",
        "away_season = pd.DataFrame(columns=fields)\n",
        "for index, game in games.iterrows():\n",
        "  home_id, away_id = game['HOME_TEAM_ID'], game['VISITOR_TEAM_ID']\n",
        "  homeL10 = homeL10.append(team_hist[home_id].get_avg_lastn(10, fields, index))\n",
        "  awayL10 = awayL10.append(team_hist[away_id].get_avg_lastn(10, fields, index))\n",
        "  home_season = home_season.append(team_hist[home_id].get_season_avg(fields, index))\n",
        "  away_season = away_season.append(team_hist[away_id].get_season_avg(fields, index))"
      ],
      "execution_count": null,
      "outputs": []
    },
    {
      "cell_type": "code",
      "metadata": {
        "colab": {
          "base_uri": "https://localhost:8080/"
        },
        "id": "WeAWlm36VyuB",
        "outputId": "cb1eb377-aeb1-4e46-813d-fbf050175a23"
      },
      "source": [
        "home_fields = []\n",
        "away_fields = []\n",
        "for f in fields:\n",
        "  home_fields.append(f + \"_homeL10\")\n",
        "  away_fields.append(f + \"_awayL10\")\n",
        "\n",
        "homeL10.set_axis(home_fields, axis=1, inplace=True)\n",
        "awayL10.set_axis(away_fields, axis=1, inplace=True)\n",
        "\n",
        "home_fields = []\n",
        "away_fields = []\n",
        "for f in fields:\n",
        "  home_fields.append(f + \"_home_AVG\")\n",
        "  away_fields.append(f + \"_away_AVG\")\n",
        "\n",
        "home_season.set_axis(home_fields, axis=1, inplace=True)\n",
        "away_season.set_axis(away_fields, axis=1, inplace=True)\n",
        "\n",
        "games = games.join(homeL10).join(awayL10).join(home_season).join(away_season).fillna(0)\n",
        "print(games.head().to_string())"
      ],
      "execution_count": null,
      "outputs": [
        {
          "output_type": "stream",
          "text": [
            "  GAME_DATE_EST   GAME_ID GAME_STATUS_TEXT  HOME_TEAM_ID  VISITOR_TEAM_ID  SEASON  PTS_home  FG_PCT_home  FT_PCT_home  FG3_PCT_home  AST_home  REB_home  PTS_away  FG_PCT_away  FT_PCT_away  FG3_PCT_away  AST_away  REB_away  HOME_TEAM_WINS  PTS_homeL10  FG_PCT_homeL10  FT_PCT_homeL10  FG3_PCT_homeL10  AST_homeL10  REB_homeL10  PTS_against_homeL10  FG_PCT_against_homeL10  FT_PCT_against_homeL10  FG3_PCT_against_homeL10  AST_against_homeL10  REB_against_homeL10  TEAM_WINS_homeL10  PTS_awayL10  FG_PCT_awayL10  FT_PCT_awayL10  FG3_PCT_awayL10  AST_awayL10  REB_awayL10  PTS_against_awayL10  FG_PCT_against_awayL10  FT_PCT_against_awayL10  FG3_PCT_against_awayL10  AST_against_awayL10  REB_against_awayL10  TEAM_WINS_awayL10  PTS_home_AVG  FG_PCT_home_AVG  FT_PCT_home_AVG  FG3_PCT_home_AVG  AST_home_AVG  REB_home_AVG  PTS_against_home_AVG  FG_PCT_against_home_AVG  FT_PCT_against_home_AVG  FG3_PCT_against_home_AVG  AST_against_home_AVG  REB_against_home_AVG  TEAM_WINS_home_AVG  PTS_away_AVG  FG_PCT_away_AVG  FT_PCT_away_AVG  FG3_PCT_away_AVG  AST_away_AVG  REB_away_AVG  PTS_against_away_AVG  FG_PCT_against_away_AVG  FT_PCT_against_away_AVG  FG3_PCT_against_away_AVG  AST_against_away_AVG  REB_against_away_AVG  TEAM_WINS_away_AVG\n",
            "0     10/5/2003  10300001            Final    1610612762       1610612742    2003      90.0        0.457        0.735         0.143      23.0      41.0      85.0        0.447        0.500         0.250      20.0      38.0               1          0.0             0.0             0.0              0.0          0.0          0.0                  0.0                     0.0                     0.0                      0.0                  0.0                  0.0                0.0          0.0             0.0             0.0              0.0          0.0          0.0                  0.0                     0.0                     0.0                      0.0                  0.0                  0.0                0.0           0.0              0.0              0.0               0.0           0.0           0.0                   0.0                      0.0                      0.0                       0.0                   0.0                   0.0                 0.0           0.0              0.0              0.0               0.0           0.0           0.0                   0.0                      0.0                      0.0                       0.0                   0.0                   0.0                 0.0\n",
            "1     10/6/2003  10300002            Final    1610612763       1610612749    2003     105.0        0.494        0.618         0.267      25.0      48.0      94.0        0.427        0.700         0.154      20.0      43.0               1          0.0             0.0             0.0              0.0          0.0          0.0                  0.0                     0.0                     0.0                      0.0                  0.0                  0.0                0.0          0.0             0.0             0.0              0.0          0.0          0.0                  0.0                     0.0                     0.0                      0.0                  0.0                  0.0                0.0           0.0              0.0              0.0               0.0           0.0           0.0                   0.0                      0.0                      0.0                       0.0                   0.0                   0.0                 0.0           0.0              0.0              0.0               0.0           0.0           0.0                   0.0                      0.0                      0.0                       0.0                   0.0                   0.0                 0.0\n",
            "2     10/7/2003  10300006            Final    1610612747       1610612744    2003       0.0        0.000        0.000         0.000       0.0       0.0       0.0        0.000        0.000         0.000       0.0       0.0               0          0.0             0.0             0.0              0.0          0.0          0.0                  0.0                     0.0                     0.0                      0.0                  0.0                  0.0                0.0          0.0             0.0             0.0              0.0          0.0          0.0                  0.0                     0.0                     0.0                      0.0                  0.0                  0.0                0.0           0.0              0.0              0.0               0.0           0.0           0.0                   0.0                      0.0                      0.0                       0.0                   0.0                   0.0                 0.0           0.0              0.0              0.0               0.0           0.0           0.0                   0.0                      0.0                      0.0                       0.0                   0.0                   0.0                 0.0\n",
            "3     10/7/2003  10300010            Final    1610612764       1610612752    2003     104.0        0.506        0.677         0.455      26.0      45.0      86.0        0.380        0.852         0.188      19.0      37.0               1          0.0             0.0             0.0              0.0          0.0          0.0                  0.0                     0.0                     0.0                      0.0                  0.0                  0.0                0.0          0.0             0.0             0.0              0.0          0.0          0.0                  0.0                     0.0                     0.0                      0.0                  0.0                  0.0                0.0           0.0              0.0              0.0               0.0           0.0           0.0                   0.0                      0.0                      0.0                       0.0                   0.0                   0.0                 0.0           0.0              0.0              0.0               0.0           0.0           0.0                   0.0                      0.0                      0.0                       0.0                   0.0                   0.0                 0.0\n",
            "4     10/7/2003  10300003            Final    1610612765       1610612739    2003      96.0        0.391        0.600         0.444      19.0      37.0     100.0        0.494        0.690         0.667      25.0      52.0               0          0.0             0.0             0.0              0.0          0.0          0.0                  0.0                     0.0                     0.0                      0.0                  0.0                  0.0                0.0          0.0             0.0             0.0              0.0          0.0          0.0                  0.0                     0.0                     0.0                      0.0                  0.0                  0.0                0.0           0.0              0.0              0.0               0.0           0.0           0.0                   0.0                      0.0                      0.0                       0.0                   0.0                   0.0                 0.0           0.0              0.0              0.0               0.0           0.0           0.0                   0.0                      0.0                      0.0                       0.0                   0.0                   0.0                 0.0\n"
          ],
          "name": "stdout"
        }
      ]
    },
    {
      "cell_type": "markdown",
      "metadata": {
        "id": "YBMoRWufrPxU"
      },
      "source": [
        "Next want to use each Vegas spread/OU and build a distribution of differences from line. \n",
        "**Important**: team_id is away, a_team_id is home, spread 1 is away spread, spread2 is home spread. "
      ]
    },
    {
      "cell_type": "code",
      "metadata": {
        "colab": {
          "base_uri": "https://localhost:8080/"
        },
        "id": "fCCWEoaBwlyQ",
        "outputId": "29873957-70c6-413b-f42d-f40720c7bd34"
      },
      "source": [
        "spreads = pd.read_csv('nba_betting_spread.csv')\n",
        "O_U = pd.read_csv('nba_betting_totals.csv')\n",
        "spreads = spreads.loc[spreads['book_name'] == '5Dimes']\n",
        "O_U = O_U.loc[O_U['book_name'] == '5Dimes']\n",
        "# join = pd.merge(games, spreads, left_on=['GAME_ID', 'VISITOR_TEAM_ID', 'HOME_TEAM_ID'], right_on=['game_id', 'team_id', 'a_team_id'])\n",
        "# data = join.dropna().drop(['game_id', 'book_name', 'book_id', 'team_id', 'a_team_id', 'price1', 'price2'], axis=1)\n",
        "betting = pd.merge(spreads, O_U)\n",
        "print(betting.head().to_string())"
      ],
      "execution_count": null,
      "outputs": [
        {
          "output_type": "stream",
          "text": [
            "    game_id book_name  book_id     team_id   a_team_id  spread1  spread2  price1  price2  total1  total2\n",
            "0  21000358    5Dimes       19  1610612749  1610612742      7.5     -7.5  -110.0  -110.0   183.5   183.5\n",
            "1  21000361    5Dimes       19  1610612755  1610612751     -1.5      1.5  -105.0  -105.0   190.5   190.5\n",
            "2  21000372    5Dimes       19  1610612766  1610612763      8.5     -8.5  -107.0  -103.0   186.0   186.0\n",
            "3  21000384    5Dimes       19  1610612751  1610612761      5.5     -5.5  -105.0  -105.0   203.0   203.0\n",
            "4  21000421    5Dimes       19  1610612739  1610612737      9.5     -9.5  -105.0  -105.0   191.5   191.5\n"
          ],
          "name": "stdout"
        }
      ]
    },
    {
      "cell_type": "markdown",
      "metadata": {
        "id": "Ma6kLvk0b7tM"
      },
      "source": [
        "# Basic Win/Loss Networks"
      ]
    },
    {
      "cell_type": "markdown",
      "metadata": {
        "id": "sB7-cw114ftR"
      },
      "source": [
        "Now we define an initial basic network.\n"
      ]
    },
    {
      "cell_type": "code",
      "metadata": {
        "id": "1pYuHxmJE7Ni"
      },
      "source": [
        "def train(model, \n",
        "          criterion, \n",
        "          optimizer, \n",
        "          train_loader, \n",
        "          val_loader, \n",
        "          max_epochs_stop=3, \n",
        "          n_epochs=10,\n",
        "          early_stop=False, \n",
        "          save_file_name=f'best_model.pt'):\n",
        "  #early stoping init\n",
        "  epochs_no_improve = 0\n",
        "  valid_loss_min = np.Inf\n",
        "  valid_max_acc = 0\n",
        "  history = []\n",
        "\n",
        "  # Number of epochs already trained (if using loaded in model weights)\n",
        "  try:\n",
        "    print(f'Model has been trained for: {model.epochs} epochs.\\n')\n",
        "  except:\n",
        "    model.epochs = 0\n",
        "    print(f'Starting Training from Scratch.\\n')\n",
        "\n",
        "  overall_start = timer()\n",
        "\n",
        "  for epoch in range(n_epochs):\n",
        "    train_loss = 0\n",
        "    valid_loss = 0\n",
        "\n",
        "    train_acc = 0\n",
        "    valid_acc = 0\n",
        "\n",
        "    model.train()\n",
        "    start = timer()\n",
        "\n",
        "    for x, y in train_loader:\n",
        "      x, y = x.to(device), y.to(device)\n",
        "\n",
        "      optimizer.zero_grad()\n",
        "\n",
        "      output = model(x)\n",
        "\n",
        "      loss = criterion(output, y)\n",
        "\n",
        "      loss.backward()\n",
        "      optimizer.step()\n",
        "\n",
        "      train_loss += loss.item() * y.size(0)\n",
        "    \n",
        "    # Validation\n",
        "    with torch.no_grad():\n",
        "      model.epochs += 1\n",
        "      model.eval()\n",
        "\n",
        "      for x, y in val_loader:\n",
        "        x, y = x.to(device), y.to(device)\n",
        "\n",
        "        output = model(x)\n",
        "\n",
        "        loss = criterion(output, y)\n",
        "\n",
        "        valid_loss += loss.item() * y.size(0)\n",
        "\n",
        "\n",
        "      # Calculate average losses                \n",
        "      train_loss = train_loss / len(train_loader.dataset)\n",
        "      valid_loss = valid_loss / len(val_loader.dataset)  \n",
        "\n",
        "      history.append([train_loss, valid_loss])\n",
        "\n",
        "      print(\n",
        "          f'\\nEpoch: {epoch} \\tTraining Loss: {train_loss:.4f} \\tValidation Loss: {valid_loss:.4f}'\n",
        "      )\n",
        "\n",
        "            # Save the model if validation loss decreases\n",
        "      if valid_loss < valid_loss_min:\n",
        "          # Save model\n",
        "          torch.save(model.state_dict(), save_file_name)\n",
        "          # Track improvement\n",
        "          epochs_no_improve = 0\n",
        "          valid_loss_min = valid_loss\n",
        "          valid_best_acc = valid_acc\n",
        "          best_epoch = epoch\n",
        "\n",
        "      else:\n",
        "          epochs_no_improve += 1\n",
        "          # Trigger early stopping\n",
        "          if epochs_no_improve >= max_epochs_stop:\n",
        "              print(\n",
        "                  f'\\nEarly Stopping! Total epochs: {epoch}. Best epoch: {best_epoch} with loss: {valid_loss_min:.5f}'\n",
        "              )\n",
        "              # Load the best state dict                        \n",
        "              model.load_state_dict(torch.load(save_file_name))\n",
        "\n",
        "              model.optimizer = optimizer\n",
        "              history = pd.DataFrame(history, columns=['train_loss', 'valid_loss'])\n",
        "\n",
        "              return model, history\n",
        "\n",
        "    \n",
        "  model.optimizer = optimizer\n",
        "  history = pd.DataFrame(history, columns=['train_loss', 'valid_loss'])\n",
        "  return model, history\n"
      ],
      "execution_count": null,
      "outputs": []
    },
    {
      "cell_type": "code",
      "metadata": {
        "id": "CKQExxXSZ62D"
      },
      "source": [
        "class RegressionDataset(Dataset):\n",
        "    \n",
        "    def __init__(self, X_data, y_data):\n",
        "        self.X_data = X_data\n",
        "        self.y_data = y_data\n",
        "        \n",
        "    def __getitem__(self, index):\n",
        "        return self.X_data[index], self.y_data[index]\n",
        "        \n",
        "    def __len__ (self):\n",
        "        return len(self.X_data)"
      ],
      "execution_count": null,
      "outputs": []
    },
    {
      "cell_type": "code",
      "metadata": {
        "id": "r3x1kxzA52-D"
      },
      "source": [
        "data = games[games['SEASON'].isin(range(2013, 2020))]\n",
        "X = data[['TEAM_WINS_homeL10', 'TEAM_WINS_awayL10']]\n",
        "Y = data[['HOME_TEAM_WINS']]\n",
        "\n",
        "# Train - Test\n",
        "X_trainval, X_test, y_trainval, y_test = train_test_split(X, Y, test_size=0.2, random_state=69)\n",
        "# Split train into train-val\n",
        "X_train, X_val, y_train, y_val = train_test_split(X_trainval, y_trainval, test_size=0.1, random_state=21)\n",
        "\n",
        "scaler = MinMaxScaler()\n",
        "X_train = scaler.fit_transform(X_train)\n",
        "X_val = scaler.transform(X_val)\n",
        "X_test = scaler.transform(X_test)\n",
        "X_train, y_train = np.array(X_train), np.array(y_train)\n",
        "X_val, y_val = np.array(X_val), np.array(y_val)\n",
        "X_test, y_test = np.array(X_test), np.array(y_test)\n",
        "y_train, y_test, y_val = y_train.astype(float), y_test.astype(float), y_val.astype(float)\n",
        "\n",
        "train_dataset = RegressionDataset(torch.from_numpy(X_train).float(), torch.from_numpy(y_train).float())\n",
        "val_dataset = RegressionDataset(torch.from_numpy(X_val).float(), torch.from_numpy(y_val).float())\n",
        "test_dataset = RegressionDataset(torch.from_numpy(X_test).float(), torch.from_numpy(y_test).float())\n",
        "\n",
        "batch_size = 30\n",
        "\n",
        "train_loader = DataLoader(dataset=train_dataset, batch_size=batch_size, shuffle=True)\n",
        "val_loader = DataLoader(dataset=val_dataset, batch_size=1)\n",
        "test_loader = DataLoader(dataset=test_dataset, batch_size=1)"
      ],
      "execution_count": null,
      "outputs": []
    },
    {
      "cell_type": "markdown",
      "metadata": {
        "id": "ic1RN2BJAop6"
      },
      "source": [
        "Below we define a simple neaural net designed to predict the winnner of a game based on their record in the last 10. "
      ]
    },
    {
      "cell_type": "code",
      "metadata": {
        "id": "OnxxLzDi4fbA"
      },
      "source": [
        "# define model\n",
        "class bmodel(nn.Module):\n",
        "    def __init__(self, nin):\n",
        "        super(bmodel, self).__init__()\n",
        "        \n",
        "        self.lin1 = nn.Linear(nin, 4)\n",
        "        # self.lin2 = nn.Linear(4, 2)\n",
        "        self.out = nn.Linear(4, 1)\n",
        "\n",
        "        self.relu = nn.ReLU()\n",
        "\n",
        "    def forward(self, x):\n",
        "        x = self.relu(self.lin1(x))\n",
        "        # x = self.relu(self.lin2(x))\n",
        "        x = self.out(x)\n",
        "\n",
        "        return x"
      ],
      "execution_count": null,
      "outputs": []
    },
    {
      "cell_type": "code",
      "metadata": {
        "colab": {
          "base_uri": "https://localhost:8080/"
        },
        "id": "CDLkHETGETQh",
        "outputId": "5e204aa5-b37d-4f47-bf22-bccb53ce6b4c"
      },
      "source": [
        "epochs = 50\n",
        "lr = .001\n",
        "\n",
        "nin = len(X.columns)\n",
        "\n",
        "model = bmodel(nin)\n",
        "\n",
        "device = torch.device(\"cuda:0\" if torch.cuda.is_available() else \"cpu\")\n",
        "print(device)\n",
        "\n",
        "model.to(device)\n",
        "\n",
        "criterion = nn.MSELoss()\n",
        "optimizer = optim.Adam(model.parameters(), lr=lr)\n",
        "\n",
        "model, history = train(\n",
        "    model, \n",
        "    criterion, \n",
        "    optimizer, \n",
        "    train_loader, \n",
        "    val_loader, \n",
        "    n_epochs=epochs, \n",
        "    early_stop=True)"
      ],
      "execution_count": null,
      "outputs": [
        {
          "output_type": "stream",
          "text": [
            "cuda:0\n"
          ],
          "name": "stdout"
        },
        {
          "output_type": "execute_result",
          "data": {
            "text/plain": [
              "bmodel(\n",
              "  (lin1): Linear(in_features=2, out_features=4, bias=True)\n",
              "  (out): Linear(in_features=4, out_features=1, bias=True)\n",
              "  (relu): ReLU()\n",
              ")"
            ]
          },
          "metadata": {
            "tags": []
          },
          "execution_count": 134
        },
        {
          "output_type": "stream",
          "text": [
            "Starting Training from Scratch.\n",
            "\n",
            "\n",
            "Epoch: 0 \tTraining Loss: 0.2484 \tValidation Loss: 0.2404\n",
            "\n",
            "Epoch: 1 \tTraining Loss: 0.2408 \tValidation Loss: 0.2373\n",
            "\n",
            "Epoch: 2 \tTraining Loss: 0.2380 \tValidation Loss: 0.2338\n",
            "\n",
            "Epoch: 3 \tTraining Loss: 0.2350 \tValidation Loss: 0.2299\n",
            "\n",
            "Epoch: 4 \tTraining Loss: 0.2325 \tValidation Loss: 0.2266\n",
            "\n",
            "Epoch: 5 \tTraining Loss: 0.2304 \tValidation Loss: 0.2244\n",
            "\n",
            "Epoch: 6 \tTraining Loss: 0.2289 \tValidation Loss: 0.2227\n",
            "\n",
            "Epoch: 7 \tTraining Loss: 0.2280 \tValidation Loss: 0.2222\n",
            "\n",
            "Epoch: 8 \tTraining Loss: 0.2277 \tValidation Loss: 0.2210\n",
            "\n",
            "Epoch: 9 \tTraining Loss: 0.2273 \tValidation Loss: 0.2210\n",
            "\n",
            "Epoch: 10 \tTraining Loss: 0.2271 \tValidation Loss: 0.2208\n",
            "\n",
            "Epoch: 11 \tTraining Loss: 0.2270 \tValidation Loss: 0.2208\n",
            "\n",
            "Epoch: 12 \tTraining Loss: 0.2268 \tValidation Loss: 0.2202\n",
            "\n",
            "Epoch: 13 \tTraining Loss: 0.2268 \tValidation Loss: 0.2202\n",
            "\n",
            "Epoch: 14 \tTraining Loss: 0.2268 \tValidation Loss: 0.2210\n",
            "\n",
            "Epoch: 15 \tTraining Loss: 0.2268 \tValidation Loss: 0.2207\n",
            "\n",
            "Early Stopping! Total epochs: 15. Best epoch: 12 with loss: 0.22019\n"
          ],
          "name": "stdout"
        }
      ]
    },
    {
      "cell_type": "code",
      "metadata": {
        "colab": {
          "base_uri": "https://localhost:8080/",
          "height": 422
        },
        "id": "HjBmKU_aFfn6",
        "outputId": "611964d1-ba96-464c-f21d-365914b69f7b"
      },
      "source": [
        "def plot_loss(history):\n",
        "  plt.figure(figsize=(8, 6))\n",
        "  for c in ['train_loss', 'valid_loss']:\n",
        "      plt.plot(\n",
        "          history[c], label=c)\n",
        "  plt.legend()\n",
        "  plt.xlabel('Epoch')\n",
        "  plt.ylabel('Average Negative Log Likelihood')\n",
        "  plt.title('Training and Validation Losses')\n",
        "  plt.show()\n",
        "\n",
        "def test_simple(model, test_loader):\n",
        "  y_pred_list = []\n",
        "  correct = 0\n",
        "  total = 0\n",
        "  with torch.no_grad():\n",
        "    model.eval()\n",
        "    for X_batch, Y_batch in test_loader:\n",
        "        X_batch = X_batch.to(device)\n",
        "        y_test_pred = model(X_batch)\n",
        "        y_pred_list.append(np.around(y_test_pred.cpu().numpy()))\n",
        "        if Y_batch.tolist()[0][0] == y_pred_list[0][0][0]:\n",
        "          correct += 1\n",
        "        total += 1\n",
        "  y_pred_list = [a.squeeze().tolist() for a in y_pred_list]\n",
        "  return (y_pred_list, correct / total)\n",
        "\n",
        "print(test_simple(model, test_loader)[1])\n",
        "plot_loss(history)"
      ],
      "execution_count": null,
      "outputs": [
        {
          "output_type": "stream",
          "text": [
            "0.5723888314374354\n"
          ],
          "name": "stdout"
        },
        {
          "output_type": "display_data",
          "data": {
            "image/png": "[encoded data removed]",
            "text/plain": [
              "<Figure size 576x432 with 1 Axes>"
            ]
          },
          "metadata": {
            "tags": [],
            "needs_background": "light"
          }
        }
      ]
    },
    {
      "cell_type": "markdown",
      "metadata": {
        "id": "a2-VRCB7FXGe"
      },
      "source": [
        "With just the last the record over the last 10 games we can achieved 55-65% accuracy in determining the winner of a game. Now we will use season averages as input to see if its more or less accurate. "
      ]
    },
    {
      "cell_type": "code",
      "metadata": {
        "id": "so0VYRAQWrf1"
      },
      "source": [
        "data = games[games['SEASON'].isin(range(2013, 2020))]\n",
        "X = data[['TEAM_WINS_home_AVG', 'TEAM_WINS_away_AVG']]\n",
        "Y = data[['HOME_TEAM_WINS']]\n",
        "\n",
        "# Train - Test\n",
        "X_trainval, X_test, y_trainval, y_test = train_test_split(X, Y, test_size=0.05, random_state=69)\n",
        "# Split train into train-val\n",
        "X_train, X_val, y_train, y_val = train_test_split(X_trainval, y_trainval, test_size=0.1, random_state=21)\n",
        "\n",
        "scaler = MinMaxScaler()\n",
        "X_train = scaler.fit_transform(X_train)\n",
        "X_val = scaler.transform(X_val)\n",
        "X_test = scaler.transform(X_test)\n",
        "X_train, y_train = np.array(X_train), np.array(y_train)\n",
        "X_val, y_val = np.array(X_val), np.array(y_val)\n",
        "X_test, y_test = np.array(X_test), np.array(y_test)\n",
        "y_train, y_test, y_val = y_train.astype(float), y_test.astype(float), y_val.astype(float)\n",
        "\n",
        "train_dataset = RegressionDataset(torch.from_numpy(X_train).float(), torch.from_numpy(y_train).float())\n",
        "val_dataset = RegressionDataset(torch.from_numpy(X_val).float(), torch.from_numpy(y_val).float())\n",
        "test_dataset = RegressionDataset(torch.from_numpy(X_test).float(), torch.from_numpy(y_test).float())\n",
        "\n",
        "batch_size = 10\n",
        "\n",
        "train_loader = DataLoader(dataset=train_dataset, batch_size=batch_size, shuffle=True)\n",
        "val_loader = DataLoader(dataset=val_dataset, batch_size=1)\n",
        "test_loader = DataLoader(dataset=test_dataset, batch_size=1)"
      ],
      "execution_count": null,
      "outputs": []
    },
    {
      "cell_type": "code",
      "metadata": {
        "colab": {
          "base_uri": "https://localhost:8080/"
        },
        "id": "HQgpjKfpX78w",
        "outputId": "74dbcda7-1a17-4ad2-ce73-108a3cedca0f"
      },
      "source": [
        "lr = .001\n",
        "nin = len(X.columns)\n",
        "\n",
        "model = bmodel(nin)\n",
        "epochs = 50\n",
        "\n",
        "device = torch.device(\"cuda:0\" if torch.cuda.is_available() else \"cpu\")\n",
        "print(device)\n",
        "\n",
        "model.to(device)\n",
        "\n",
        "criterion = nn.MSELoss()\n",
        "optimizer = optim.Adam(model.parameters(), lr=lr)\n",
        "\n",
        "model, history = train(\n",
        "    model, \n",
        "    criterion, \n",
        "    optimizer, \n",
        "    train_loader, \n",
        "    val_loader, \n",
        "    n_epochs=epochs)"
      ],
      "execution_count": null,
      "outputs": [
        {
          "output_type": "stream",
          "text": [
            "cuda:0\n"
          ],
          "name": "stdout"
        },
        {
          "output_type": "execute_result",
          "data": {
            "text/plain": [
              "bmodel(\n",
              "  (lin1): Linear(in_features=2, out_features=4, bias=True)\n",
              "  (out): Linear(in_features=4, out_features=1, bias=True)\n",
              "  (relu): ReLU()\n",
              ")"
            ]
          },
          "metadata": {
            "tags": []
          },
          "execution_count": 152
        },
        {
          "output_type": "stream",
          "text": [
            "Starting Training from Scratch.\n",
            "\n",
            "\n",
            "Epoch: 0 \tTraining Loss: 0.2452 \tValidation Loss: 0.2246\n",
            "\n",
            "Epoch: 1 \tTraining Loss: 0.2270 \tValidation Loss: 0.2218\n",
            "\n",
            "Epoch: 2 \tTraining Loss: 0.2254 \tValidation Loss: 0.2205\n",
            "\n",
            "Epoch: 3 \tTraining Loss: 0.2250 \tValidation Loss: 0.2205\n",
            "\n",
            "Epoch: 4 \tTraining Loss: 0.2250 \tValidation Loss: 0.2205\n",
            "\n",
            "Epoch: 5 \tTraining Loss: 0.2247 \tValidation Loss: 0.2197\n",
            "\n",
            "Epoch: 6 \tTraining Loss: 0.2251 \tValidation Loss: 0.2205\n",
            "\n",
            "Epoch: 7 \tTraining Loss: 0.2248 \tValidation Loss: 0.2194\n",
            "\n",
            "Epoch: 8 \tTraining Loss: 0.2248 \tValidation Loss: 0.2216\n",
            "\n",
            "Epoch: 9 \tTraining Loss: 0.2249 \tValidation Loss: 0.2197\n",
            "\n",
            "Epoch: 10 \tTraining Loss: 0.2247 \tValidation Loss: 0.2194\n",
            "\n",
            "Early Stopping! Total epochs: 10. Best epoch: 7 with loss: 0.21940\n"
          ],
          "name": "stdout"
        }
      ]
    },
    {
      "cell_type": "code",
      "metadata": {
        "colab": {
          "base_uri": "https://localhost:8080/",
          "height": 422
        },
        "id": "0eaO5qFvZf6L",
        "outputId": "9c0ce835-bd3d-4c3b-ef33-1169f8c80911"
      },
      "source": [
        "plot_loss(history)\n",
        "print(test_simple(model, test_loader)[1])"
      ],
      "execution_count": null,
      "outputs": [
        {
          "output_type": "display_data",
          "data": {
            "image/png": "[encoded data removed]",
            "text/plain": [
              "<Figure size 576x432 with 1 Axes>"
            ]
          },
          "metadata": {
            "tags": [],
            "needs_background": "light"
          }
        },
        {
          "output_type": "stream",
          "text": [
            "0.5805785123966942\n"
          ],
          "name": "stdout"
        }
      ]
    },
    {
      "cell_type": "markdown",
      "metadata": {
        "id": "6Hnt5pHrfis8"
      },
      "source": [
        "We achieve best performance of ~59% with the basic network"
      ]
    },
    {
      "cell_type": "markdown",
      "metadata": {
        "id": "7Fa8T_xafl8d"
      },
      "source": [
        "# Deep Score Prediction Network"
      ]
    },
    {
      "cell_type": "markdown",
      "metadata": {
        "id": "3qD7O4LyhqIm"
      },
      "source": [
        "The first network we try uses games from 2012-2020 PPG and PAPG over the last 10."
      ]
    },
    {
      "cell_type": "code",
      "metadata": {
        "id": "qcSNofwvit6P"
      },
      "source": [
        "def test(model, test_loader, Print=False):\n",
        "  y_pred_list = []\n",
        "  with torch.no_grad():\n",
        "    model.eval()\n",
        "    for X_batch, _ in test_loader:\n",
        "        X_batch = X_batch.to(device)\n",
        "        y_test_pred = model(X_batch)\n",
        "        y_pred_list.append(y_test_pred.cpu().numpy())\n",
        "\n",
        "  y_pred_list = [a.squeeze().tolist() for a in y_pred_list]\n",
        "  return y_pred_list\n",
        "\n",
        "def test_net_spreads(network, columns, betting, games, n):\n",
        "  with torch.no_grad():\n",
        "    model.eval()\n",
        "\n",
        "    join = pd.merge(games, betting, left_on=['GAME_ID'], right_on=['game_id'])\n",
        "\n",
        "    X = join[columns]\n",
        "    Y = join[['PTS_home', 'PTS_away', 'spread2', 'total1']]\n",
        "\n",
        "    scaler = MinMaxScaler()\n",
        "    X = scaler.fit_transform(X)\n",
        "    X = np.array(X)\n",
        "    Y = np.array(Y)\n",
        "    Y = Y.astype(float)\n",
        "\n",
        "    X = torch.from_numpy(X).float()\n",
        "\n",
        "    correct_o_u = 0.\n",
        "    correct_spread = 0.\n",
        "    total = 0\n",
        "    for x, y in zip(X, Y):\n",
        "        x = x.to(device)\n",
        "        y_test_pred = model(x).cpu().tolist()\n",
        "\n",
        "        # spread is true if home team beats the spread\n",
        "        test_spread = (y_test_pred[0] - y_test_pred[1] + y[2]) > 0\n",
        "        # o_u is true if the over hits\n",
        "        test_o_u = y_test_pred[0] + y_test_pred[1] - y[3] > 0\n",
        "        # spread is true if home team beats the spread\n",
        "        spread = (y[0] - y[1] + y[2]) > 0\n",
        "        # o_u is true if the over hits\n",
        "        o_u = y[0] + y[1] - y[3] > 0\n",
        "\n",
        "        correct_o_u += test_o_u == o_u\n",
        "        correct_spread += test_spread == spread\n",
        "        total += 1\n",
        "\n",
        "    return {'o/u': correct_o_u / total * 100, 'spread': correct_spread / total * 100}"
      ],
      "execution_count": null,
      "outputs": []
    },
    {
      "cell_type": "code",
      "metadata": {
        "id": "8ntVQv6csFSo"
      },
      "source": [
        "pts_data = data.loc[data['SEASON'].isin(range(2012, 2021))]\n",
        "X = pts_data[['PTS_homeL10', 'PTS_against_homeL10', 'PTS_awayL10', 'PTS_against_awayL10']]\n",
        "Y = pts_data[['PTS_home', 'PTS_away']]\n",
        "\n",
        "# Train - Test\n",
        "X_trainval, X_test, y_trainval, y_test = train_test_split(X, Y, test_size=0.1, random_state=69)\n",
        "# Split train into train-val\n",
        "X_train, X_val, y_train, y_val = train_test_split(X_trainval, y_trainval, test_size=0.1, random_state=21)\n",
        "\n",
        "scaler = MinMaxScaler()\n",
        "X_train = scaler.fit_transform(X_train)\n",
        "X_val = scaler.transform(X_val)\n",
        "X_test = scaler.transform(X_test)\n",
        "X_train, y_train = np.array(X_train), np.array(y_train)\n",
        "X_val, y_val = np.array(X_val), np.array(y_val)\n",
        "X_test, y_test = np.array(X_test), np.array(y_test)\n",
        "y_train, y_test, y_val = y_train.astype(float), y_test.astype(float), y_val.astype(float)\n",
        "\n",
        "train_dataset = RegressionDataset(torch.from_numpy(X_train).float(), torch.from_numpy(y_train).float())\n",
        "val_dataset = RegressionDataset(torch.from_numpy(X_val).float(), torch.from_numpy(y_val).float())\n",
        "test_dataset = RegressionDataset(torch.from_numpy(X_test).float(), torch.from_numpy(y_test).float())\n",
        "\n",
        "batch_size = 25\n",
        "\n",
        "train_loader = DataLoader(dataset=train_dataset, batch_size=batch_size, shuffle=True)\n",
        "val_loader = DataLoader(dataset=val_dataset, batch_size=1)\n",
        "test_loader = DataLoader(dataset=test_dataset, batch_size=1)"
      ],
      "execution_count": null,
      "outputs": []
    },
    {
      "cell_type": "code",
      "metadata": {
        "id": "BwkAFh2POJ55"
      },
      "source": [
        "# define model\n",
        "# plan to input each teams PPG for the season, PPG last 10 game, PAPG for the season, PAPG last 10 games\n",
        "class ScoresModelDeep(nn.Module):\n",
        "    def __init__(self, nin, nout):\n",
        "        super(ScoresModelDeep, self).__init__()\n",
        "        \n",
        "        self.lin1 = nn.Linear(nin, 8)\n",
        "        self.lin2 = nn.Linear(8, 16)\n",
        "        self.lin3 = nn.Linear(16, 12)\n",
        "        self.lin4 = nn.Linear(12, 6)\n",
        "        self.out = nn.Linear(6, nout)\n",
        "        \n",
        "        self.dropout = nn.Dropout(0)\n",
        "        self.relu = nn.ReLU()\n",
        "\n",
        "    def forward(self, x):\n",
        "        x = self.relu(self.lin1(x))\n",
        "        x = self.dropout(x)\n",
        "        x = self.relu(self.lin2(x))\n",
        "        x = self.dropout(x)\n",
        "        x = self.relu(self.lin3(x))\n",
        "        x = self.dropout(x)\n",
        "        x = self.relu(self.lin4(x))\n",
        "        x = self.dropout(x)\n",
        "        x = self.out(x)\n",
        "        return x"
      ],
      "execution_count": null,
      "outputs": []
    },
    {
      "cell_type": "code",
      "metadata": {
        "colab": {
          "base_uri": "https://localhost:8080/"
        },
        "id": "tiIcMGj8ru1y",
        "outputId": "24017661-ac0c-4e03-bcc9-3bd7f728762e"
      },
      "source": [
        "lr = .00005\n",
        "nin = len(X.columns)\n",
        "nout = len(Y.columns)\n",
        "\n",
        "model = ScoresModelDeep(nin, nout)\n",
        "epochs = 150\n",
        "\n",
        "device = torch.device(\"cuda:0\" if torch.cuda.is_available() else \"cpu\")\n",
        "print(device)\n",
        "\n",
        "model.to(device)\n",
        "\n",
        "criterion = nn.MSELoss()\n",
        "optimizer = optim.Adam(model.parameters(), lr=lr)\n",
        "\n",
        "model, history = train(\n",
        "    model, \n",
        "    criterion, \n",
        "    optimizer, \n",
        "    train_loader, \n",
        "    val_loader, \n",
        "    n_epochs=epochs)"
      ],
      "execution_count": null,
      "outputs": [
        {
          "output_type": "stream",
          "text": [
            "cuda:0\n"
          ],
          "name": "stdout"
        },
        {
          "output_type": "execute_result",
          "data": {
            "text/plain": [
              "ScoresModelDeep(\n",
              "  (lin1): Linear(in_features=4, out_features=8, bias=True)\n",
              "  (lin2): Linear(in_features=8, out_features=16, bias=True)\n",
              "  (lin3): Linear(in_features=16, out_features=12, bias=True)\n",
              "  (lin4): Linear(in_features=12, out_features=6, bias=True)\n",
              "  (out): Linear(in_features=6, out_features=2, bias=True)\n",
              "  (dropout): Dropout(p=0, inplace=False)\n",
              "  (relu): ReLU()\n",
              ")"
            ]
          },
          "metadata": {
            "tags": []
          },
          "execution_count": 379
        },
        {
          "output_type": "stream",
          "text": [
            "Starting Training from Scratch.\n",
            "\n",
            "\n",
            "Epoch: 0 \tTraining Loss: 11227.4923 \tValidation Loss: 11098.0956\n",
            "\n",
            "Epoch: 1 \tTraining Loss: 11220.0077 \tValidation Loss: 11089.2636\n",
            "\n",
            "Epoch: 2 \tTraining Loss: 11207.5151 \tValidation Loss: 11072.7644\n",
            "\n",
            "Epoch: 3 \tTraining Loss: 11184.8825 \tValidation Loss: 11042.7526\n",
            "\n",
            "Epoch: 4 \tTraining Loss: 11143.5778 \tValidation Loss: 10988.3370\n",
            "\n",
            "Epoch: 5 \tTraining Loss: 11070.5369 \tValidation Loss: 10894.6360\n",
            "\n",
            "Epoch: 6 \tTraining Loss: 10949.5257 \tValidation Loss: 10744.6688\n",
            "\n",
            "Epoch: 7 \tTraining Loss: 10762.9036 \tValidation Loss: 10520.6249\n",
            "\n",
            "Epoch: 8 \tTraining Loss: 10493.3211 \tValidation Loss: 10205.8021\n",
            "\n",
            "Epoch: 9 \tTraining Loss: 10124.3542 \tValidation Loss: 9784.8282\n",
            "\n",
            "Epoch: 10 \tTraining Loss: 9643.1194 \tValidation Loss: 9247.7519\n",
            "\n",
            "Epoch: 11 \tTraining Loss: 9041.6787 \tValidation Loss: 8589.6217\n",
            "\n",
            "Epoch: 12 \tTraining Loss: 8318.3635 \tValidation Loss: 7809.4809\n",
            "\n",
            "Epoch: 13 \tTraining Loss: 7473.8171 \tValidation Loss: 6919.3819\n",
            "\n",
            "Epoch: 14 \tTraining Loss: 6534.0816 \tValidation Loss: 5950.7393\n",
            "\n",
            "Epoch: 15 \tTraining Loss: 5534.4138 \tValidation Loss: 4945.5553\n",
            "\n",
            "Epoch: 16 \tTraining Loss: 4522.0368 \tValidation Loss: 3956.4515\n",
            "\n",
            "Epoch: 17 \tTraining Loss: 3553.8276 \tValidation Loss: 3041.3905\n",
            "\n",
            "Epoch: 18 \tTraining Loss: 2687.7539 \tValidation Loss: 2257.1043\n",
            "\n",
            "Epoch: 19 \tTraining Loss: 1973.2004 \tValidation Loss: 1642.3051\n",
            "\n",
            "Epoch: 20 \tTraining Loss: 1436.0705 \tValidation Loss: 1205.9824\n",
            "\n",
            "Epoch: 21 \tTraining Loss: 1069.4962 \tValidation Loss: 922.7618\n",
            "\n",
            "Epoch: 22 \tTraining Loss: 832.9542 \tValidation Loss: 741.0666\n",
            "\n",
            "Epoch: 23 \tTraining Loss: 675.2433 \tValidation Loss: 613.2763\n",
            "\n",
            "Epoch: 24 \tTraining Loss: 558.4484 \tValidation Loss: 512.9885\n",
            "\n",
            "Epoch: 25 \tTraining Loss: 465.1243 \tValidation Loss: 431.2094\n",
            "\n",
            "Epoch: 26 \tTraining Loss: 389.5763 \tValidation Loss: 365.2646\n",
            "\n",
            "Epoch: 27 \tTraining Loss: 329.7877 \tValidation Loss: 313.8057\n",
            "\n",
            "Epoch: 28 \tTraining Loss: 283.9972 \tValidation Loss: 275.2943\n",
            "\n",
            "Epoch: 29 \tTraining Loss: 250.4671 \tValidation Loss: 247.5476\n",
            "\n",
            "Epoch: 30 \tTraining Loss: 227.0935 \tValidation Loss: 228.7336\n",
            "\n",
            "Epoch: 31 \tTraining Loss: 211.6634 \tValidation Loss: 216.7628\n",
            "\n",
            "Epoch: 32 \tTraining Loss: 201.9518 \tValidation Loss: 209.1270\n",
            "\n",
            "Epoch: 33 \tTraining Loss: 196.1068 \tValidation Loss: 204.6826\n",
            "\n",
            "Epoch: 34 \tTraining Loss: 192.5436 \tValidation Loss: 202.5725\n",
            "\n",
            "Epoch: 35 \tTraining Loss: 190.4060 \tValidation Loss: 200.0892\n",
            "\n",
            "Epoch: 36 \tTraining Loss: 188.7763 \tValidation Loss: 198.4572\n",
            "\n",
            "Epoch: 37 \tTraining Loss: 187.3362 \tValidation Loss: 196.7658\n",
            "\n",
            "Epoch: 38 \tTraining Loss: 185.9425 \tValidation Loss: 195.3780\n",
            "\n",
            "Epoch: 39 \tTraining Loss: 184.5327 \tValidation Loss: 193.8464\n",
            "\n",
            "Epoch: 40 \tTraining Loss: 183.1286 \tValidation Loss: 192.5552\n",
            "\n",
            "Epoch: 41 \tTraining Loss: 181.6845 \tValidation Loss: 190.7123\n",
            "\n",
            "Epoch: 42 \tTraining Loss: 180.2532 \tValidation Loss: 189.3172\n",
            "\n",
            "Epoch: 43 \tTraining Loss: 178.7771 \tValidation Loss: 187.4447\n",
            "\n",
            "Epoch: 44 \tTraining Loss: 177.3844 \tValidation Loss: 185.7650\n",
            "\n",
            "Epoch: 45 \tTraining Loss: 175.9407 \tValidation Loss: 184.5855\n",
            "\n",
            "Epoch: 46 \tTraining Loss: 174.6164 \tValidation Loss: 183.0009\n",
            "\n",
            "Epoch: 47 \tTraining Loss: 173.2490 \tValidation Loss: 181.3569\n",
            "\n",
            "Epoch: 48 \tTraining Loss: 171.9101 \tValidation Loss: 180.4383\n",
            "\n",
            "Epoch: 49 \tTraining Loss: 170.6419 \tValidation Loss: 178.4577\n",
            "\n",
            "Epoch: 50 \tTraining Loss: 169.3982 \tValidation Loss: 177.3009\n",
            "\n",
            "Epoch: 51 \tTraining Loss: 168.1546 \tValidation Loss: 175.8006\n",
            "\n",
            "Epoch: 52 \tTraining Loss: 166.9576 \tValidation Loss: 174.8508\n",
            "\n",
            "Epoch: 53 \tTraining Loss: 165.8090 \tValidation Loss: 173.4251\n",
            "\n",
            "Epoch: 54 \tTraining Loss: 164.7167 \tValidation Loss: 172.4153\n",
            "\n",
            "Epoch: 55 \tTraining Loss: 163.6116 \tValidation Loss: 171.1365\n",
            "\n",
            "Epoch: 56 \tTraining Loss: 162.5223 \tValidation Loss: 169.6307\n",
            "\n",
            "Epoch: 57 \tTraining Loss: 161.4955 \tValidation Loss: 168.5672\n",
            "\n",
            "Epoch: 58 \tTraining Loss: 160.4805 \tValidation Loss: 167.9222\n",
            "\n",
            "Epoch: 59 \tTraining Loss: 159.5075 \tValidation Loss: 166.6759\n",
            "\n",
            "Epoch: 60 \tTraining Loss: 158.5585 \tValidation Loss: 165.5593\n",
            "\n",
            "Epoch: 61 \tTraining Loss: 157.5915 \tValidation Loss: 164.0894\n",
            "\n",
            "Epoch: 62 \tTraining Loss: 156.7007 \tValidation Loss: 163.5087\n",
            "\n",
            "Epoch: 63 \tTraining Loss: 155.8520 \tValidation Loss: 162.4702\n",
            "\n",
            "Epoch: 64 \tTraining Loss: 155.0293 \tValidation Loss: 161.4658\n",
            "\n",
            "Epoch: 65 \tTraining Loss: 154.1790 \tValidation Loss: 160.5579\n",
            "\n",
            "Epoch: 66 \tTraining Loss: 153.4145 \tValidation Loss: 159.5317\n",
            "\n",
            "Epoch: 67 \tTraining Loss: 152.6757 \tValidation Loss: 158.6266\n",
            "\n",
            "Epoch: 68 \tTraining Loss: 151.9001 \tValidation Loss: 157.8032\n",
            "\n",
            "Epoch: 69 \tTraining Loss: 151.2641 \tValidation Loss: 157.2803\n",
            "\n",
            "Epoch: 70 \tTraining Loss: 150.5579 \tValidation Loss: 156.5460\n",
            "\n",
            "Epoch: 71 \tTraining Loss: 149.8683 \tValidation Loss: 155.6057\n",
            "\n",
            "Epoch: 72 \tTraining Loss: 149.2575 \tValidation Loss: 155.2271\n",
            "\n",
            "Epoch: 73 \tTraining Loss: 148.6296 \tValidation Loss: 154.4148\n",
            "\n",
            "Epoch: 74 \tTraining Loss: 148.0759 \tValidation Loss: 153.5798\n",
            "\n",
            "Epoch: 75 \tTraining Loss: 147.5106 \tValidation Loss: 153.1511\n",
            "\n",
            "Epoch: 76 \tTraining Loss: 146.9689 \tValidation Loss: 152.9241\n",
            "\n",
            "Epoch: 77 \tTraining Loss: 146.4607 \tValidation Loss: 152.0827\n",
            "\n",
            "Epoch: 78 \tTraining Loss: 145.9660 \tValidation Loss: 151.6268\n",
            "\n",
            "Epoch: 79 \tTraining Loss: 145.4825 \tValidation Loss: 151.0218\n",
            "\n",
            "Epoch: 80 \tTraining Loss: 145.0235 \tValidation Loss: 150.5357\n",
            "\n",
            "Epoch: 81 \tTraining Loss: 144.5863 \tValidation Loss: 149.6669\n",
            "\n",
            "Epoch: 82 \tTraining Loss: 144.1583 \tValidation Loss: 149.4631\n",
            "\n",
            "Epoch: 83 \tTraining Loss: 143.7570 \tValidation Loss: 149.1006\n",
            "\n",
            "Epoch: 84 \tTraining Loss: 143.3441 \tValidation Loss: 148.9651\n",
            "\n",
            "Epoch: 85 \tTraining Loss: 142.9895 \tValidation Loss: 148.0960\n",
            "\n",
            "Epoch: 86 \tTraining Loss: 142.6137 \tValidation Loss: 147.8457\n",
            "\n",
            "Epoch: 87 \tTraining Loss: 142.2698 \tValidation Loss: 147.0986\n",
            "\n",
            "Epoch: 88 \tTraining Loss: 141.9067 \tValidation Loss: 147.1981\n",
            "\n",
            "Epoch: 89 \tTraining Loss: 141.6308 \tValidation Loss: 146.3722\n",
            "\n",
            "Epoch: 90 \tTraining Loss: 141.2652 \tValidation Loss: 145.8563\n",
            "\n",
            "Epoch: 91 \tTraining Loss: 140.9581 \tValidation Loss: 145.4567\n",
            "\n",
            "Epoch: 92 \tTraining Loss: 140.6965 \tValidation Loss: 145.2417\n",
            "\n",
            "Epoch: 93 \tTraining Loss: 140.4545 \tValidation Loss: 145.0407\n",
            "\n",
            "Epoch: 94 \tTraining Loss: 140.1723 \tValidation Loss: 145.0945\n",
            "\n",
            "Epoch: 95 \tTraining Loss: 139.9146 \tValidation Loss: 144.2691\n",
            "\n",
            "Epoch: 96 \tTraining Loss: 139.6926 \tValidation Loss: 144.1893\n",
            "\n",
            "Epoch: 97 \tTraining Loss: 139.4457 \tValidation Loss: 144.1157\n",
            "\n",
            "Epoch: 98 \tTraining Loss: 139.2474 \tValidation Loss: 143.5834\n",
            "\n",
            "Epoch: 99 \tTraining Loss: 139.0735 \tValidation Loss: 143.3360\n",
            "\n",
            "Epoch: 100 \tTraining Loss: 138.8764 \tValidation Loss: 143.2473\n",
            "\n",
            "Epoch: 101 \tTraining Loss: 138.6477 \tValidation Loss: 142.8021\n",
            "\n",
            "Epoch: 102 \tTraining Loss: 138.4269 \tValidation Loss: 143.3704\n",
            "\n",
            "Epoch: 103 \tTraining Loss: 138.3035 \tValidation Loss: 142.3755\n",
            "\n",
            "Epoch: 104 \tTraining Loss: 138.1589 \tValidation Loss: 142.3040\n",
            "\n",
            "Epoch: 105 \tTraining Loss: 137.9964 \tValidation Loss: 142.1849\n",
            "\n",
            "Epoch: 106 \tTraining Loss: 137.8536 \tValidation Loss: 142.2020\n",
            "\n",
            "Epoch: 107 \tTraining Loss: 137.7162 \tValidation Loss: 142.0220\n",
            "\n",
            "Epoch: 108 \tTraining Loss: 137.5531 \tValidation Loss: 141.9409\n",
            "\n",
            "Epoch: 109 \tTraining Loss: 137.4705 \tValidation Loss: 141.6394\n",
            "\n",
            "Epoch: 110 \tTraining Loss: 137.2997 \tValidation Loss: 141.5253\n",
            "\n",
            "Epoch: 111 \tTraining Loss: 137.1938 \tValidation Loss: 141.4362\n",
            "\n",
            "Epoch: 112 \tTraining Loss: 137.1122 \tValidation Loss: 141.1226\n",
            "\n",
            "Epoch: 113 \tTraining Loss: 136.9827 \tValidation Loss: 140.7343\n",
            "\n",
            "Epoch: 114 \tTraining Loss: 136.9026 \tValidation Loss: 140.8475\n",
            "\n",
            "Epoch: 115 \tTraining Loss: 136.7572 \tValidation Loss: 140.8363\n",
            "\n",
            "Epoch: 116 \tTraining Loss: 136.7163 \tValidation Loss: 140.3165\n",
            "\n",
            "Epoch: 117 \tTraining Loss: 136.6573 \tValidation Loss: 140.4282\n",
            "\n",
            "Epoch: 118 \tTraining Loss: 136.5750 \tValidation Loss: 140.4544\n",
            "\n",
            "Epoch: 119 \tTraining Loss: 136.4862 \tValidation Loss: 140.3014\n",
            "\n",
            "Epoch: 120 \tTraining Loss: 136.3806 \tValidation Loss: 139.9106\n",
            "\n",
            "Epoch: 121 \tTraining Loss: 136.3218 \tValidation Loss: 140.4477\n",
            "\n",
            "Epoch: 122 \tTraining Loss: 136.2903 \tValidation Loss: 139.9738\n",
            "\n",
            "Epoch: 123 \tTraining Loss: 136.2256 \tValidation Loss: 140.0965\n",
            "\n",
            "Early Stopping! Total epochs: 123. Best epoch: 120 with loss: 139.91063\n"
          ],
          "name": "stdout"
        }
      ]
    },
    {
      "cell_type": "code",
      "metadata": {
        "colab": {
          "base_uri": "https://localhost:8080/",
          "height": 404
        },
        "id": "PF1OS09T7Gad",
        "outputId": "0e470511-8ecc-4982-9263-2aa536313a23"
      },
      "source": [
        "plot_loss(history)"
      ],
      "execution_count": null,
      "outputs": [
        {
          "output_type": "display_data",
          "data": {
            "image/png": "[encoded data removed]",
            "text/plain": [
              "<Figure size 576x432 with 1 Axes>"
            ]
          },
          "metadata": {
            "tags": [],
            "needs_background": "light"
          }
        }
      ]
    },
    {
      "cell_type": "code",
      "metadata": {
        "colab": {
          "base_uri": "https://localhost:8080/"
        },
        "id": "UMqzmGFz6P4i",
        "outputId": "b454286a-2156-4596-ab11-1790d2f7052a"
      },
      "source": [
        "y_pred = test(model, test_loader)\n",
        "# for i in range(len(y_pred)):\n",
        "#   print((y_pred[i], y_test[i]))\n",
        "mse = mean_squared_error(y_test, y_pred)\n",
        "r_square = r2_score(y_test, y_pred)\n",
        "print(\"Mean Squared Error :\",mse)\n",
        "print(\"R^2 :\",r_square)"
      ],
      "execution_count": null,
      "outputs": [
        {
          "output_type": "stream",
          "text": [
            "Mean Squared Error : 136.2347269606737\n",
            "R^2 : 0.16291042735246175\n"
          ],
          "name": "stdout"
        }
      ]
    },
    {
      "cell_type": "code",
      "metadata": {
        "colab": {
          "base_uri": "https://localhost:8080/"
        },
        "id": "ev-BWygHNTd_",
        "outputId": "954773b1-817f-486a-9a61-1f0da04304a3"
      },
      "source": [
        "columns = X.columns\n",
        "print(test_net_spreads(model, columns, betting, games, 1))"
      ],
      "execution_count": null,
      "outputs": [
        {
          "output_type": "stream",
          "text": [
            "{'o/u': 49.7089481521592, 'spread': 50.38581291457967}\n"
          ],
          "name": "stdout"
        }
      ]
    },
    {
      "cell_type": "markdown",
      "metadata": {
        "id": "IajXH_AskGOw"
      },
      "source": [
        "We achieve MSE of 134.15 and R^2 of 0.1758 with the above network. Now we incorporate team wins over the last 10 as well and see if the model is more predictive. It predicts the over/under 49.7089% of the time and the spread 50.3858. "
      ]
    },
    {
      "cell_type": "code",
      "metadata": {
        "id": "LqQdErVP2g1V"
      },
      "source": [
        "pts_data = data.loc[data['SEASON'].isin(range(2012, 2020))]\n",
        "X = pts_data[['PTS_homeL10', 'PTS_against_homeL10', 'TEAM_WINS_homeL10', 'PTS_awayL10', 'PTS_against_awayL10', 'TEAM_WINS_awayL10']]\n",
        "Y = pts_data[['PTS_home', 'PTS_away']]\n",
        "\n",
        "# Train - Test\n",
        "X_trainval, X_test, y_trainval, y_test = train_test_split(X, Y, test_size=0.2, random_state=68)\n",
        "# Split train into train-val\n",
        "X_train, X_val, y_train, y_val = train_test_split(X_trainval, y_trainval, test_size=0.1, random_state=21)\n",
        "\n",
        "scaler = MinMaxScaler()\n",
        "X_train = scaler.fit_transform(X_train)\n",
        "X_val = scaler.transform(X_val)\n",
        "X_test = scaler.transform(X_test)\n",
        "X_train, y_train = np.array(X_train), np.array(y_train)\n",
        "X_val, y_val = np.array(X_val), np.array(y_val)\n",
        "X_test, y_test = np.array(X_test), np.array(y_test)\n",
        "y_train, y_test, y_val = y_train.astype(float), y_test.astype(float), y_val.astype(float)"
      ],
      "execution_count": null,
      "outputs": []
    },
    {
      "cell_type": "code",
      "metadata": {
        "id": "yJlRp7654FzU"
      },
      "source": [
        "train_dataset = RegressionDataset(torch.from_numpy(X_train).float(), torch.from_numpy(y_train).float())\n",
        "val_dataset = RegressionDataset(torch.from_numpy(X_val).float(), torch.from_numpy(y_val).float())\n",
        "test_dataset = RegressionDataset(torch.from_numpy(X_test).float(), torch.from_numpy(y_test).float())\n",
        "\n",
        "batch_size = 10\n",
        "\n",
        "train_loader = DataLoader(dataset=train_dataset, batch_size=batch_size, shuffle=True)\n",
        "val_loader = DataLoader(dataset=val_dataset, batch_size=1)\n",
        "test_loader = DataLoader(dataset=test_dataset, batch_size=1)"
      ],
      "execution_count": null,
      "outputs": []
    },
    {
      "cell_type": "code",
      "metadata": {
        "colab": {
          "base_uri": "https://localhost:8080/"
        },
        "id": "nkIKrFjVlMD4",
        "outputId": "7de9e2c3-85c3-48a5-bfe6-26c712a16e01"
      },
      "source": [
        "lr = .001 / (2 ** 3)\n",
        "nin = len(X.columns)\n",
        "nout = len(Y.columns)\n",
        "\n",
        "model = ScoresModelDeep(nin, nout)\n",
        "epochs = 200\n",
        "\n",
        "device = torch.device(\"cuda:0\" if torch.cuda.is_available() else \"cpu\")\n",
        "print(device)\n",
        "\n",
        "model.to(device)\n",
        "\n",
        "criterion = nn.MSELoss()\n",
        "optimizer = optim.Adam(model.parameters(), lr=lr)\n",
        "\n",
        "model, history = train(\n",
        "    model, \n",
        "    criterion, \n",
        "    optimizer, \n",
        "    train_loader, \n",
        "    val_loader,\n",
        "    10,\n",
        "    n_epochs=epochs)"
      ],
      "execution_count": null,
      "outputs": [
        {
          "output_type": "stream",
          "text": [
            "cuda:0\n"
          ],
          "name": "stdout"
        },
        {
          "output_type": "execute_result",
          "data": {
            "text/plain": [
              "ScoresModelDeep(\n",
              "  (lin1): Linear(in_features=6, out_features=8, bias=True)\n",
              "  (lin2): Linear(in_features=8, out_features=16, bias=True)\n",
              "  (lin3): Linear(in_features=16, out_features=12, bias=True)\n",
              "  (lin4): Linear(in_features=12, out_features=6, bias=True)\n",
              "  (out): Linear(in_features=6, out_features=2, bias=True)\n",
              "  (dropout): Dropout(p=0, inplace=False)\n",
              "  (relu): ReLU()\n",
              ")"
            ]
          },
          "metadata": {
            "tags": []
          },
          "execution_count": 388
        },
        {
          "output_type": "stream",
          "text": [
            "Starting Training from Scratch.\n",
            "\n",
            "\n",
            "Epoch: 0 \tTraining Loss: 11244.9370 \tValidation Loss: 11200.2904\n",
            "\n",
            "Epoch: 1 \tTraining Loss: 10789.5608 \tValidation Loss: 9835.6242\n",
            "\n",
            "Epoch: 2 \tTraining Loss: 7101.8151 \tValidation Loss: 3725.6233\n",
            "\n",
            "Epoch: 3 \tTraining Loss: 1523.2446 \tValidation Loss: 534.7177\n",
            "\n",
            "Epoch: 4 \tTraining Loss: 375.0415 \tValidation Loss: 267.7247\n",
            "\n",
            "Epoch: 5 \tTraining Loss: 236.1983 \tValidation Loss: 211.3087\n",
            "\n",
            "Epoch: 6 \tTraining Loss: 210.1415 \tValidation Loss: 202.8883\n",
            "\n",
            "Epoch: 7 \tTraining Loss: 204.4224 \tValidation Loss: 200.1016\n",
            "\n",
            "Epoch: 8 \tTraining Loss: 200.0865 \tValidation Loss: 194.0327\n",
            "\n",
            "Epoch: 9 \tTraining Loss: 195.3553 \tValidation Loss: 190.3640\n",
            "\n",
            "Epoch: 10 \tTraining Loss: 190.4989 \tValidation Loss: 185.0675\n",
            "\n",
            "Epoch: 11 \tTraining Loss: 185.8356 \tValidation Loss: 181.3046\n",
            "\n",
            "Epoch: 12 \tTraining Loss: 180.9806 \tValidation Loss: 177.7555\n",
            "\n",
            "Epoch: 13 \tTraining Loss: 176.6467 \tValidation Loss: 172.9172\n",
            "\n",
            "Epoch: 14 \tTraining Loss: 172.6542 \tValidation Loss: 169.1102\n",
            "\n",
            "Epoch: 15 \tTraining Loss: 168.6720 \tValidation Loss: 165.8007\n",
            "\n",
            "Epoch: 16 \tTraining Loss: 165.2987 \tValidation Loss: 162.8139\n",
            "\n",
            "Epoch: 17 \tTraining Loss: 162.0681 \tValidation Loss: 160.3538\n",
            "\n",
            "Epoch: 18 \tTraining Loss: 158.9687 \tValidation Loss: 157.6625\n",
            "\n",
            "Epoch: 19 \tTraining Loss: 156.3264 \tValidation Loss: 155.5292\n",
            "\n",
            "Epoch: 20 \tTraining Loss: 153.7766 \tValidation Loss: 153.3899\n",
            "\n",
            "Epoch: 21 \tTraining Loss: 151.4541 \tValidation Loss: 151.5751\n",
            "\n",
            "Epoch: 22 \tTraining Loss: 149.3886 \tValidation Loss: 149.9570\n",
            "\n",
            "Epoch: 23 \tTraining Loss: 147.6275 \tValidation Loss: 148.5775\n",
            "\n",
            "Epoch: 24 \tTraining Loss: 145.9021 \tValidation Loss: 147.3196\n",
            "\n",
            "Epoch: 25 \tTraining Loss: 144.4861 \tValidation Loss: 146.2536\n",
            "\n",
            "Epoch: 26 \tTraining Loss: 143.2092 \tValidation Loss: 145.6471\n",
            "\n",
            "Epoch: 27 \tTraining Loss: 142.0764 \tValidation Loss: 144.5921\n",
            "\n",
            "Epoch: 28 \tTraining Loss: 141.0439 \tValidation Loss: 144.1289\n",
            "\n",
            "Epoch: 29 \tTraining Loss: 140.1571 \tValidation Loss: 143.5638\n",
            "\n",
            "Epoch: 30 \tTraining Loss: 139.3436 \tValidation Loss: 142.9923\n",
            "\n",
            "Epoch: 31 \tTraining Loss: 138.7501 \tValidation Loss: 142.5649\n",
            "\n",
            "Epoch: 32 \tTraining Loss: 138.2139 \tValidation Loss: 142.2521\n",
            "\n",
            "Epoch: 33 \tTraining Loss: 137.6804 \tValidation Loss: 142.3525\n",
            "\n",
            "Epoch: 34 \tTraining Loss: 137.3055 \tValidation Loss: 141.8275\n",
            "\n",
            "Epoch: 35 \tTraining Loss: 136.9453 \tValidation Loss: 141.6715\n",
            "\n",
            "Epoch: 36 \tTraining Loss: 136.6193 \tValidation Loss: 141.6354\n",
            "\n",
            "Epoch: 37 \tTraining Loss: 136.3969 \tValidation Loss: 141.9664\n",
            "\n",
            "Epoch: 38 \tTraining Loss: 136.1168 \tValidation Loss: 141.4634\n",
            "\n",
            "Epoch: 39 \tTraining Loss: 135.9947 \tValidation Loss: 142.2698\n",
            "\n",
            "Epoch: 40 \tTraining Loss: 135.8624 \tValidation Loss: 141.5446\n",
            "\n",
            "Epoch: 41 \tTraining Loss: 135.7310 \tValidation Loss: 141.4811\n",
            "\n",
            "Epoch: 42 \tTraining Loss: 135.6702 \tValidation Loss: 141.4027\n",
            "\n",
            "Epoch: 43 \tTraining Loss: 135.5566 \tValidation Loss: 141.4083\n",
            "\n",
            "Epoch: 44 \tTraining Loss: 135.4033 \tValidation Loss: 141.6406\n",
            "\n",
            "Epoch: 45 \tTraining Loss: 135.3931 \tValidation Loss: 141.4129\n",
            "\n",
            "Epoch: 46 \tTraining Loss: 135.3166 \tValidation Loss: 141.5218\n",
            "\n",
            "Epoch: 47 \tTraining Loss: 135.3130 \tValidation Loss: 141.5009\n",
            "\n",
            "Epoch: 48 \tTraining Loss: 135.2342 \tValidation Loss: 142.3371\n",
            "\n",
            "Epoch: 49 \tTraining Loss: 135.1130 \tValidation Loss: 141.7354\n",
            "\n",
            "Epoch: 50 \tTraining Loss: 135.1210 \tValidation Loss: 141.5114\n",
            "\n",
            "Epoch: 51 \tTraining Loss: 135.1580 \tValidation Loss: 141.5180\n",
            "\n",
            "Epoch: 52 \tTraining Loss: 135.0470 \tValidation Loss: 141.5910\n",
            "\n",
            "Early Stopping! Total epochs: 52. Best epoch: 42 with loss: 141.40265\n"
          ],
          "name": "stdout"
        }
      ]
    },
    {
      "cell_type": "code",
      "metadata": {
        "colab": {
          "base_uri": "https://localhost:8080/",
          "height": 440
        },
        "id": "UWw9b3ssmCwG",
        "outputId": "6a4c12dd-0a42-42c1-d357-026981fd5fce"
      },
      "source": [
        "plot_loss(history)\n",
        "\n",
        "y_pred = test(model, test_loader)\n",
        "# for i in range(len(y_pred)):\n",
        "#   print((y_pred[i], y_test[i]))\n",
        "mse = mean_squared_error(y_test, y_pred)\n",
        "r_square = r2_score(y_test, y_pred)\n",
        "print(\"Mean Squared Error :\",mse)\n",
        "print(\"R^2 :\",r_square)"
      ],
      "execution_count": null,
      "outputs": [
        {
          "output_type": "display_data",
          "data": {
            "image/png": "[encoded data removed]",
            "text/plain": [
              "<Figure size 576x432 with 1 Axes>"
            ]
          },
          "metadata": {
            "tags": [],
            "needs_background": "light"
          }
        },
        {
          "output_type": "stream",
          "text": [
            "Mean Squared Error : 144.53066848681812\n",
            "R^2 : 0.1544234785078818\n"
          ],
          "name": "stdout"
        }
      ]
    },
    {
      "cell_type": "code",
      "metadata": {
        "colab": {
          "base_uri": "https://localhost:8080/"
        },
        "id": "dLyBCM6APOpB",
        "outputId": "c43a83cf-f109-476b-cf12-a9020ad23012"
      },
      "source": [
        "columns = X.columns\n",
        "print(test_net_spreads(model, columns, betting, games, 1))"
      ],
      "execution_count": null,
      "outputs": [
        {
          "output_type": "stream",
          "text": [
            "{'o/u': 49.18099363747123, 'spread': 50.39935020982808}\n"
          ],
          "name": "stdout"
        }
      ]
    },
    {
      "cell_type": "markdown",
      "metadata": {
        "id": "EJSJcb9astPg"
      },
      "source": [
        "# Deeper Networks"
      ]
    },
    {
      "cell_type": "code",
      "metadata": {
        "id": "T-KTK8c85Q_i"
      },
      "source": [
        "# define model\n",
        "class ScoresModelV2(nn.Module):\n",
        "    def __init__(self, nin, nout, dropout, middleLayer = False):\n",
        "        super(ScoresModelV2, self).__init__()\n",
        "        \n",
        "        self.lin1 = nn.Linear(nin, 8)\n",
        "        self.lin2 = nn.Linear(8, 16)\n",
        "        self.lin3 = nn.Linear(16, 24)\n",
        "        if middleLayer:\n",
        "          self.lin4 = nn.Linear(24, 24)\n",
        "        self.lin5 = nn.Linear(24, 12)\n",
        "        self.lin6 = nn.Linear(12, 6)\n",
        "        self.out = nn.Linear(6, nout)\n",
        "\n",
        "        self.relu = nn.ReLU()\n",
        "        self.dropout = nn.Dropout(dropout)\n",
        "\n",
        "        self.middleLayer = middleLayer\n",
        "\n",
        "    def forward(self, x):\n",
        "        x = self.relu(self.lin1(x))\n",
        "        x = self.relu(self.lin2(x))\n",
        "        x = self.dropout(x)\n",
        "        x = self.relu(self.lin3(x))\n",
        "        x = self.dropout(x)\n",
        "        if self.middleLayer:\n",
        "          x = self.relu(self.lin4(x))\n",
        "          x = self.dropout(x)\n",
        "        x = self.relu(self.lin5(x))\n",
        "        x = self.dropout(x)\n",
        "        x = self.relu(self.lin6(x))\n",
        "        x = self.out(x)\n",
        "        return x"
      ],
      "execution_count": null,
      "outputs": []
    },
    {
      "cell_type": "code",
      "metadata": {
        "id": "jhLkN5pOtBF2"
      },
      "source": [
        "pts_data = data.loc[data['SEASON'].isin(range(2012, 2020))]\n",
        "pts_data['TOTAL_POINTS'] = pts_data['PTS_home'] + pts_data['PTS_away']\n",
        "\n",
        "X = pts_data[['PTS_homeL10', 'PTS_against_homeL10', 'TEAM_WINS_homeL10', 'PTS_awayL10', 'PTS_against_awayL10', 'TEAM_WINS_awayL10']]\n",
        "# X = pts_data[['PTS_homeL10', 'PTS_against_homeL10', 'PTS_awayL10', 'PTS_against_awayL10']]\n",
        "Y = pts_data[['PTS_home', 'PTS_away']]\n",
        "\n",
        "# Train - Test\n",
        "X_trainval, X_test, y_trainval, y_test = train_test_split(X, Y, test_size=0.2, random_state=69)\n",
        "# Split train into train-val\n",
        "X_train, X_val, y_train, y_val = train_test_split(X_trainval, y_trainval, test_size=0.1, random_state=21)\n",
        "\n",
        "scaler = MinMaxScaler()\n",
        "X_train = scaler.fit_transform(X_train)\n",
        "X_val = scaler.transform(X_val)\n",
        "X_test = scaler.transform(X_test)\n",
        "X_train, y_train = np.array(X_train), np.array(y_train)\n",
        "X_val, y_val = np.array(X_val), np.array(y_val)\n",
        "X_test, y_test = np.array(X_test), np.array(y_test)\n",
        "y_train, y_test, y_val = y_train.astype(float), y_test.astype(float), y_val.astype(float)\n",
        "\n",
        "train_dataset = RegressionDataset(torch.from_numpy(X_train).float(), torch.from_numpy(y_train).float())\n",
        "val_dataset = RegressionDataset(torch.from_numpy(X_val).float(), torch.from_numpy(y_val).float())\n",
        "test_dataset = RegressionDataset(torch.from_numpy(X_test).float(), torch.from_numpy(y_test).float())\n",
        "\n",
        "batch_size = 25\n",
        "\n",
        "train_loader = DataLoader(dataset=train_dataset, batch_size=batch_size, shuffle=True)\n",
        "val_loader = DataLoader(dataset=val_dataset, batch_size=1)\n",
        "test_loader = DataLoader(dataset=test_dataset, batch_size=1)"
      ],
      "execution_count": null,
      "outputs": []
    },
    {
      "cell_type": "code",
      "metadata": {
        "colab": {
          "base_uri": "https://localhost:8080/"
        },
        "id": "zgW6ikO14KLo",
        "outputId": "b7f71e18-0cb5-4321-d17c-22c25c83dac8"
      },
      "source": [
        "lr = .0001\n",
        "nin = len(X.columns)\n",
        "nout = len(Y.columns)\n",
        "\n",
        "model = ScoresModelV2(nin, nout, .3, False)\n",
        "epochs = 200\n",
        "\n",
        "device = torch.device(\"cuda:0\" if torch.cuda.is_available() else \"cpu\")\n",
        "print(device)\n",
        "\n",
        "model.to(device)\n",
        "\n",
        "criterion = nn.MSELoss()\n",
        "optimizer = optim.Adam(model.parameters(), lr=lr)\n",
        "\n",
        "model, history = train(\n",
        "    model, \n",
        "    criterion, \n",
        "    optimizer, \n",
        "    train_loader, \n",
        "    val_loader, \n",
        "    10,\n",
        "    n_epochs=epochs)"
      ],
      "execution_count": null,
      "outputs": [
        {
          "output_type": "stream",
          "text": [
            "cuda:0\n"
          ],
          "name": "stdout"
        },
        {
          "output_type": "execute_result",
          "data": {
            "text/plain": [
              "ScoresModelV2(\n",
              "  (lin1): Linear(in_features=6, out_features=8, bias=True)\n",
              "  (lin2): Linear(in_features=8, out_features=16, bias=True)\n",
              "  (lin3): Linear(in_features=16, out_features=24, bias=True)\n",
              "  (lin5): Linear(in_features=24, out_features=12, bias=True)\n",
              "  (lin6): Linear(in_features=12, out_features=6, bias=True)\n",
              "  (out): Linear(in_features=6, out_features=2, bias=True)\n",
              "  (relu): ReLU()\n",
              "  (dropout): Dropout(p=0.3, inplace=False)\n",
              ")"
            ]
          },
          "metadata": {
            "tags": []
          },
          "execution_count": 396
        },
        {
          "output_type": "stream",
          "text": [
            "Starting Training from Scratch.\n",
            "\n",
            "\n",
            "Epoch: 0 \tTraining Loss: 11231.3314 \tValidation Loss: 11311.2323\n",
            "\n",
            "Epoch: 1 \tTraining Loss: 11208.5577 \tValidation Loss: 11272.5869\n",
            "\n",
            "Epoch: 2 \tTraining Loss: 11009.9809 \tValidation Loss: 10673.4327\n",
            "\n",
            "Epoch: 3 \tTraining Loss: 9060.0612 \tValidation Loss: 6543.1583\n",
            "\n",
            "Epoch: 4 \tTraining Loss: 3613.9699 \tValidation Loss: 1017.9432\n",
            "\n",
            "Epoch: 5 \tTraining Loss: 1554.1846 \tValidation Loss: 501.9562\n",
            "\n",
            "Epoch: 6 \tTraining Loss: 1404.8056 \tValidation Loss: 397.2246\n",
            "\n",
            "Epoch: 7 \tTraining Loss: 1380.2858 \tValidation Loss: 381.7530\n",
            "\n",
            "Epoch: 8 \tTraining Loss: 1329.2793 \tValidation Loss: 393.0861\n",
            "\n",
            "Epoch: 9 \tTraining Loss: 1345.0994 \tValidation Loss: 374.4917\n",
            "\n",
            "Epoch: 10 \tTraining Loss: 1319.7472 \tValidation Loss: 354.6952\n",
            "\n",
            "Epoch: 11 \tTraining Loss: 1304.0679 \tValidation Loss: 333.5713\n",
            "\n",
            "Epoch: 12 \tTraining Loss: 1300.1491 \tValidation Loss: 336.3726\n",
            "\n",
            "Epoch: 13 \tTraining Loss: 1240.3472 \tValidation Loss: 348.1765\n",
            "\n",
            "Epoch: 14 \tTraining Loss: 1208.3394 \tValidation Loss: 339.0975\n",
            "\n",
            "Epoch: 15 \tTraining Loss: 1266.4860 \tValidation Loss: 340.4261\n",
            "\n",
            "Epoch: 16 \tTraining Loss: 1235.1507 \tValidation Loss: 356.3770\n",
            "\n",
            "Epoch: 17 \tTraining Loss: 1176.1781 \tValidation Loss: 345.2488\n",
            "\n",
            "Epoch: 18 \tTraining Loss: 1173.7556 \tValidation Loss: 317.0456\n",
            "\n",
            "Epoch: 19 \tTraining Loss: 1142.3524 \tValidation Loss: 330.7338\n",
            "\n",
            "Epoch: 20 \tTraining Loss: 1169.2327 \tValidation Loss: 314.3143\n",
            "\n",
            "Epoch: 21 \tTraining Loss: 1134.8102 \tValidation Loss: 311.2226\n",
            "\n",
            "Epoch: 22 \tTraining Loss: 1120.6743 \tValidation Loss: 319.0065\n",
            "\n",
            "Epoch: 23 \tTraining Loss: 1114.9746 \tValidation Loss: 301.7727\n",
            "\n",
            "Epoch: 24 \tTraining Loss: 1111.7377 \tValidation Loss: 310.1137\n",
            "\n",
            "Epoch: 25 \tTraining Loss: 1093.4897 \tValidation Loss: 318.9888\n",
            "\n",
            "Epoch: 26 \tTraining Loss: 1060.0319 \tValidation Loss: 290.6363\n",
            "\n",
            "Epoch: 27 \tTraining Loss: 1056.4022 \tValidation Loss: 280.6157\n",
            "\n",
            "Epoch: 28 \tTraining Loss: 1049.9418 \tValidation Loss: 273.5506\n",
            "\n",
            "Epoch: 29 \tTraining Loss: 1059.4100 \tValidation Loss: 256.9342\n",
            "\n",
            "Epoch: 30 \tTraining Loss: 1056.7335 \tValidation Loss: 258.7878\n",
            "\n",
            "Epoch: 31 \tTraining Loss: 1003.5147 \tValidation Loss: 242.6041\n",
            "\n",
            "Epoch: 32 \tTraining Loss: 1013.0334 \tValidation Loss: 269.8977\n",
            "\n",
            "Epoch: 33 \tTraining Loss: 995.3823 \tValidation Loss: 276.2249\n",
            "\n",
            "Epoch: 34 \tTraining Loss: 971.8582 \tValidation Loss: 242.3109\n",
            "\n",
            "Epoch: 35 \tTraining Loss: 951.9043 \tValidation Loss: 258.7574\n",
            "\n",
            "Epoch: 36 \tTraining Loss: 955.4947 \tValidation Loss: 250.8260\n",
            "\n",
            "Epoch: 37 \tTraining Loss: 947.4815 \tValidation Loss: 248.2391\n",
            "\n",
            "Epoch: 38 \tTraining Loss: 973.0519 \tValidation Loss: 255.7714\n",
            "\n",
            "Epoch: 39 \tTraining Loss: 942.2567 \tValidation Loss: 230.1575\n",
            "\n",
            "Epoch: 40 \tTraining Loss: 953.2101 \tValidation Loss: 235.4568\n",
            "\n",
            "Epoch: 41 \tTraining Loss: 925.2057 \tValidation Loss: 221.6813\n",
            "\n",
            "Epoch: 42 \tTraining Loss: 922.4556 \tValidation Loss: 232.0384\n",
            "\n",
            "Epoch: 43 \tTraining Loss: 942.1145 \tValidation Loss: 250.7143\n",
            "\n",
            "Epoch: 44 \tTraining Loss: 876.5755 \tValidation Loss: 244.3822\n",
            "\n",
            "Epoch: 45 \tTraining Loss: 905.9825 \tValidation Loss: 226.8006\n",
            "\n",
            "Epoch: 46 \tTraining Loss: 893.8886 \tValidation Loss: 228.5039\n",
            "\n",
            "Epoch: 47 \tTraining Loss: 873.2760 \tValidation Loss: 231.5984\n",
            "\n",
            "Epoch: 48 \tTraining Loss: 883.1968 \tValidation Loss: 233.6850\n",
            "\n",
            "Epoch: 49 \tTraining Loss: 858.8198 \tValidation Loss: 236.0521\n",
            "\n",
            "Epoch: 50 \tTraining Loss: 873.2342 \tValidation Loss: 212.3310\n",
            "\n",
            "Epoch: 51 \tTraining Loss: 837.0782 \tValidation Loss: 228.4111\n",
            "\n",
            "Epoch: 52 \tTraining Loss: 837.4810 \tValidation Loss: 218.4938\n",
            "\n",
            "Epoch: 53 \tTraining Loss: 818.6383 \tValidation Loss: 211.3493\n",
            "\n",
            "Epoch: 54 \tTraining Loss: 831.0423 \tValidation Loss: 221.2293\n",
            "\n",
            "Epoch: 55 \tTraining Loss: 823.7199 \tValidation Loss: 226.1102\n",
            "\n",
            "Epoch: 56 \tTraining Loss: 805.0978 \tValidation Loss: 217.6147\n",
            "\n",
            "Epoch: 57 \tTraining Loss: 820.6140 \tValidation Loss: 225.5018\n",
            "\n",
            "Epoch: 58 \tTraining Loss: 805.2260 \tValidation Loss: 217.4068\n",
            "\n",
            "Epoch: 59 \tTraining Loss: 792.9029 \tValidation Loss: 230.7966\n",
            "\n",
            "Epoch: 60 \tTraining Loss: 780.0183 \tValidation Loss: 232.2628\n",
            "\n",
            "Epoch: 61 \tTraining Loss: 803.3516 \tValidation Loss: 218.6819\n",
            "\n",
            "Epoch: 62 \tTraining Loss: 762.1921 \tValidation Loss: 209.5575\n",
            "\n",
            "Epoch: 63 \tTraining Loss: 762.1779 \tValidation Loss: 213.7225\n",
            "\n",
            "Epoch: 64 \tTraining Loss: 765.6413 \tValidation Loss: 209.6035\n",
            "\n",
            "Epoch: 65 \tTraining Loss: 749.2401 \tValidation Loss: 217.7358\n",
            "\n",
            "Epoch: 66 \tTraining Loss: 738.0094 \tValidation Loss: 207.9159\n",
            "\n",
            "Epoch: 67 \tTraining Loss: 747.8089 \tValidation Loss: 233.3387\n",
            "\n",
            "Epoch: 68 \tTraining Loss: 722.3433 \tValidation Loss: 216.6948\n",
            "\n",
            "Epoch: 69 \tTraining Loss: 731.6049 \tValidation Loss: 211.3150\n",
            "\n",
            "Epoch: 70 \tTraining Loss: 726.2610 \tValidation Loss: 220.7305\n",
            "\n",
            "Epoch: 71 \tTraining Loss: 716.9052 \tValidation Loss: 217.5570\n",
            "\n",
            "Epoch: 72 \tTraining Loss: 706.5451 \tValidation Loss: 219.2402\n",
            "\n",
            "Epoch: 73 \tTraining Loss: 709.8411 \tValidation Loss: 228.8846\n",
            "\n",
            "Epoch: 74 \tTraining Loss: 695.9824 \tValidation Loss: 200.3772\n",
            "\n",
            "Epoch: 75 \tTraining Loss: 712.6754 \tValidation Loss: 213.3729\n",
            "\n",
            "Epoch: 76 \tTraining Loss: 715.2724 \tValidation Loss: 211.6732\n",
            "\n",
            "Epoch: 77 \tTraining Loss: 692.7785 \tValidation Loss: 213.2222\n",
            "\n",
            "Epoch: 78 \tTraining Loss: 697.3473 \tValidation Loss: 203.0698\n",
            "\n",
            "Epoch: 79 \tTraining Loss: 676.0212 \tValidation Loss: 211.0079\n",
            "\n",
            "Epoch: 80 \tTraining Loss: 668.1585 \tValidation Loss: 203.4435\n",
            "\n",
            "Epoch: 81 \tTraining Loss: 655.4752 \tValidation Loss: 201.8388\n",
            "\n",
            "Epoch: 82 \tTraining Loss: 648.5473 \tValidation Loss: 197.6864\n",
            "\n",
            "Epoch: 83 \tTraining Loss: 650.8851 \tValidation Loss: 203.9961\n",
            "\n",
            "Epoch: 84 \tTraining Loss: 661.8690 \tValidation Loss: 212.8673\n",
            "\n",
            "Epoch: 85 \tTraining Loss: 668.1860 \tValidation Loss: 208.0054\n",
            "\n",
            "Epoch: 86 \tTraining Loss: 649.5198 \tValidation Loss: 214.5308\n",
            "\n",
            "Epoch: 87 \tTraining Loss: 653.6765 \tValidation Loss: 202.9265\n",
            "\n",
            "Epoch: 88 \tTraining Loss: 655.4551 \tValidation Loss: 221.9338\n",
            "\n",
            "Epoch: 89 \tTraining Loss: 654.8921 \tValidation Loss: 204.9158\n",
            "\n",
            "Epoch: 90 \tTraining Loss: 631.2876 \tValidation Loss: 204.8072\n",
            "\n",
            "Epoch: 91 \tTraining Loss: 639.6156 \tValidation Loss: 206.0409\n",
            "\n",
            "Epoch: 92 \tTraining Loss: 633.2738 \tValidation Loss: 201.2497\n",
            "\n",
            "Early Stopping! Total epochs: 92. Best epoch: 82 with loss: 197.68638\n"
          ],
          "name": "stdout"
        }
      ]
    },
    {
      "cell_type": "code",
      "metadata": {
        "colab": {
          "base_uri": "https://localhost:8080/",
          "height": 440
        },
        "id": "GhOD20pkQrYd",
        "outputId": "c475139e-d3fe-4c6f-d15f-1f845a79be1c"
      },
      "source": [
        "plot_loss(history)\n",
        "\n",
        "y_pred = test(model, test_loader)\n",
        "# for i in range(len(y_pred)):\n",
        "#   print((y_pred[i], y_test[i]))\n",
        "mse = mean_squared_error(y_test, y_pred)\n",
        "r_square = r2_score(y_test, y_pred)\n",
        "print(\"Mean Squared Error :\",mse)\n",
        "print(\"R^2 :\",r_square)"
      ],
      "execution_count": null,
      "outputs": [
        {
          "output_type": "display_data",
          "data": {
            "image/png": "[encoded data removed]",
            "text/plain": [
              "<Figure size 576x432 with 1 Axes>"
            ]
          },
          "metadata": {
            "tags": [],
            "needs_background": "light"
          }
        },
        {
          "output_type": "stream",
          "text": [
            "Mean Squared Error : 168.44806527626355\n",
            "R^2 : -0.05377303004066758\n"
          ],
          "name": "stdout"
        }
      ]
    },
    {
      "cell_type": "code",
      "metadata": {
        "colab": {
          "base_uri": "https://localhost:8080/"
        },
        "id": "7jPTKaVmSdo6",
        "outputId": "16ef9983-8eb2-4fab-86c6-7e062da32250"
      },
      "source": [
        "columns = X.columns\n",
        "print(test_net_spreads(model, columns, betting, games, 1))"
      ],
      "execution_count": null,
      "outputs": [
        {
          "output_type": "stream",
          "text": [
            "{'o/u': 50.994991200758086, 'spread': 50.291051847840805}\n"
          ],
          "name": "stdout"
        }
      ]
    },
    {
      "cell_type": "markdown",
      "metadata": {
        "id": "zHOjN-hPy5mx"
      },
      "source": [
        "The deeper network appears to work worse on our data inputs than the simpler network. Now we try with larger input set over last ten games. "
      ]
    },
    {
      "cell_type": "code",
      "metadata": {
        "colab": {
          "base_uri": "https://localhost:8080/"
        },
        "id": "ZgBxzW2wKZW2",
        "outputId": "3e42a7e7-f0b7-4526-92cf-95de142b3d45"
      },
      "source": [
        "pts_data = data.loc[data['SEASON'].isin(range(2016, 2021))]\n",
        "columns = []\n",
        "for i in pts_data:\n",
        "  if 'L10' in i and not 'against' in i:\n",
        "    columns.append(i)\n",
        "X = pts_data[columns]\n",
        "Y = pts_data[['PTS_home', 'PTS_away']]#pts_data[['HOME_TEAM_WINS']]\n",
        "print((len(columns), columns))\n",
        "\n",
        "# Train - Test\n",
        "X_trainval, X_test, y_trainval, y_test = train_test_split(X, Y, test_size=0.2, random_state=69)\n",
        "# Split train into train-val\n",
        "X_train, X_val, y_train, y_val = train_test_split(X_trainval, y_trainval, test_size=0.1, random_state=21)\n",
        "\n",
        "scaler = MinMaxScaler()\n",
        "X_train = scaler.fit_transform(X_train)\n",
        "X_val = scaler.transform(X_val)\n",
        "X_test = scaler.transform(X_test)\n",
        "X_train, y_train = np.array(X_train), np.array(y_train)\n",
        "X_val, y_val = np.array(X_val), np.array(y_val)\n",
        "X_test, y_test = np.array(X_test), np.array(y_test)\n",
        "y_train, y_test, y_val = y_train.astype(float), y_test.astype(float), y_val.astype(float)\n",
        "\n",
        "train_dataset = RegressionDataset(torch.from_numpy(X_train).float(), torch.from_numpy(y_train).float())\n",
        "val_dataset = RegressionDataset(torch.from_numpy(X_val).float(), torch.from_numpy(y_val).float())\n",
        "test_dataset = RegressionDataset(torch.from_numpy(X_test).float(), torch.from_numpy(y_test).float())\n",
        "\n",
        "batch_size = 40\n",
        "\n",
        "train_loader = DataLoader(dataset=train_dataset, batch_size=batch_size, shuffle=True)\n",
        "val_loader = DataLoader(dataset=val_dataset, batch_size=1)\n",
        "test_loader = DataLoader(dataset=test_dataset, batch_size=1)"
      ],
      "execution_count": null,
      "outputs": [
        {
          "output_type": "stream",
          "text": [
            "(14, ['PTS_homeL10', 'FG_PCT_homeL10', 'FT_PCT_homeL10', 'FG3_PCT_homeL10', 'AST_homeL10', 'REB_homeL10', 'TEAM_WINS_homeL10', 'PTS_awayL10', 'FG_PCT_awayL10', 'FT_PCT_awayL10', 'FG3_PCT_awayL10', 'AST_awayL10', 'REB_awayL10', 'TEAM_WINS_awayL10'])\n"
          ],
          "name": "stdout"
        }
      ]
    },
    {
      "cell_type": "code",
      "metadata": {
        "id": "jW2vmsaTK9d2"
      },
      "source": [
        "# define model\n",
        "# plan to input each teams PPG for the season, PPG last 10 game, PAPG for the season, PAPG last 10 games\n",
        "class ScoresModelV3(nn.Module):\n",
        "    def __init__(self, nin, nout, dropout):\n",
        "        super(ScoresModelV3, self).__init__()\n",
        "        \n",
        "        self.lin1 = nn.Linear(nin, 48)\n",
        "        self.lin2 = nn.Linear(48, 96)\n",
        "        self.lin3 = nn.Linear(96, 48)\n",
        "        self.lin4 = nn.Linear(48, 24)\n",
        "        self.lin5 = nn.Linear(24, 8)\n",
        "        self.out = nn.Linear(8, nout)\n",
        "\n",
        "        self.relu = nn.ReLU()\n",
        "        self.dropout = nn.Dropout(dropout)\n",
        "\n",
        "    def forward(self, x):\n",
        "        x = self.relu(self.lin1(x))\n",
        "        x = self.dropout(x)\n",
        "        x = self.relu(self.lin2(x))\n",
        "        x = self.dropout(x)\n",
        "        x = self.relu(self.lin3(x))\n",
        "        x = self.dropout(x)\n",
        "        x = self.relu(self.lin4(x))\n",
        "        x = self.dropout(x)\n",
        "        x = self.relu(self.lin5(x))\n",
        "        x = self.dropout(x)\n",
        "        x = self.out(x)\n",
        "        return x"
      ],
      "execution_count": null,
      "outputs": []
    },
    {
      "cell_type": "code",
      "metadata": {
        "colab": {
          "base_uri": "https://localhost:8080/"
        },
        "id": "BuTG-00QLdy2",
        "outputId": "e0ad40f9-7d87-4456-c890-96e43aa9ffa5"
      },
      "source": [
        "lr = .001 / 2 ** 1\n",
        "nin = len(X.columns)\n",
        "nout = len(Y.columns)\n",
        "\n",
        "model = ScoresModelV3(nin, nout, 0)\n",
        "epochs = 200\n",
        "\n",
        "device = torch.device(\"cuda:0\" if torch.cuda.is_available() else \"cpu\")\n",
        "print(device)\n",
        "\n",
        "model.to(device)\n",
        "\n",
        "criterion = nn.MSELoss()\n",
        "optimizer = optim.Adam(model.parameters(), lr=lr)\n",
        "\n",
        "model, history = train(\n",
        "    model, \n",
        "    criterion, \n",
        "    optimizer, \n",
        "    train_loader, \n",
        "    val_loader, \n",
        "    10,\n",
        "    n_epochs=epochs)"
      ],
      "execution_count": null,
      "outputs": [
        {
          "output_type": "stream",
          "text": [
            "cuda:0\n"
          ],
          "name": "stdout"
        },
        {
          "output_type": "execute_result",
          "data": {
            "text/plain": [
              "ScoresModelV3(\n",
              "  (lin1): Linear(in_features=14, out_features=48, bias=True)\n",
              "  (lin2): Linear(in_features=48, out_features=96, bias=True)\n",
              "  (lin3): Linear(in_features=96, out_features=48, bias=True)\n",
              "  (lin4): Linear(in_features=48, out_features=24, bias=True)\n",
              "  (lin5): Linear(in_features=24, out_features=8, bias=True)\n",
              "  (out): Linear(in_features=8, out_features=2, bias=True)\n",
              "  (relu): ReLU()\n",
              "  (dropout): Dropout(p=0, inplace=False)\n",
              ")"
            ]
          },
          "metadata": {
            "tags": []
          },
          "execution_count": 332
        },
        {
          "output_type": "stream",
          "text": [
            "Starting Training from Scratch.\n",
            "\n",
            "\n",
            "Epoch: 0 \tTraining Loss: 11871.7266 \tValidation Loss: 11761.9141\n",
            "\n",
            "Epoch: 1 \tTraining Loss: 10909.5552 \tValidation Loss: 7567.8634\n",
            "\n",
            "Epoch: 2 \tTraining Loss: 1960.4507 \tValidation Loss: 269.2673\n",
            "\n",
            "Epoch: 3 \tTraining Loss: 272.0545 \tValidation Loss: 246.8064\n",
            "\n",
            "Epoch: 4 \tTraining Loss: 264.5884 \tValidation Loss: 243.3010\n",
            "\n",
            "Epoch: 5 \tTraining Loss: 260.7284 \tValidation Loss: 239.1562\n",
            "\n",
            "Epoch: 6 \tTraining Loss: 256.4605 \tValidation Loss: 235.1834\n",
            "\n",
            "Epoch: 7 \tTraining Loss: 252.0508 \tValidation Loss: 232.3721\n",
            "\n",
            "Epoch: 8 \tTraining Loss: 247.0384 \tValidation Loss: 226.2536\n",
            "\n",
            "Epoch: 9 \tTraining Loss: 241.3301 \tValidation Loss: 221.7306\n",
            "\n",
            "Epoch: 10 \tTraining Loss: 236.2649 \tValidation Loss: 217.8092\n",
            "\n",
            "Epoch: 11 \tTraining Loss: 231.3753 \tValidation Loss: 214.6273\n",
            "\n",
            "Epoch: 12 \tTraining Loss: 226.0924 \tValidation Loss: 208.2320\n",
            "\n",
            "Epoch: 13 \tTraining Loss: 220.5447 \tValidation Loss: 203.5484\n",
            "\n",
            "Epoch: 14 \tTraining Loss: 215.2315 \tValidation Loss: 199.7603\n",
            "\n",
            "Epoch: 15 \tTraining Loss: 209.8798 \tValidation Loss: 195.1529\n",
            "\n",
            "Epoch: 16 \tTraining Loss: 205.4450 \tValidation Loss: 190.9874\n",
            "\n",
            "Epoch: 17 \tTraining Loss: 200.4743 \tValidation Loss: 187.7027\n",
            "\n",
            "Epoch: 18 \tTraining Loss: 196.5019 \tValidation Loss: 184.2682\n",
            "\n",
            "Epoch: 19 \tTraining Loss: 192.1073 \tValidation Loss: 180.5638\n",
            "\n",
            "Epoch: 20 \tTraining Loss: 188.2243 \tValidation Loss: 178.7231\n",
            "\n",
            "Epoch: 21 \tTraining Loss: 184.1061 \tValidation Loss: 174.2810\n",
            "\n",
            "Epoch: 22 \tTraining Loss: 180.3008 \tValidation Loss: 174.6769\n",
            "\n",
            "Epoch: 23 \tTraining Loss: 177.4187 \tValidation Loss: 170.3795\n",
            "\n",
            "Epoch: 24 \tTraining Loss: 174.5904 \tValidation Loss: 167.6727\n",
            "\n",
            "Epoch: 25 \tTraining Loss: 171.4971 \tValidation Loss: 169.1821\n",
            "\n",
            "Epoch: 26 \tTraining Loss: 169.2261 \tValidation Loss: 164.6957\n",
            "\n",
            "Epoch: 27 \tTraining Loss: 167.8903 \tValidation Loss: 164.3170\n",
            "\n",
            "Epoch: 28 \tTraining Loss: 165.9616 \tValidation Loss: 163.6163\n",
            "\n",
            "Epoch: 29 \tTraining Loss: 164.1870 \tValidation Loss: 161.3218\n",
            "\n",
            "Epoch: 30 \tTraining Loss: 162.8832 \tValidation Loss: 160.6002\n",
            "\n",
            "Epoch: 31 \tTraining Loss: 161.2874 \tValidation Loss: 159.9627\n",
            "\n",
            "Epoch: 32 \tTraining Loss: 160.6665 \tValidation Loss: 167.5604\n",
            "\n",
            "Epoch: 33 \tTraining Loss: 160.9997 \tValidation Loss: 165.1332\n",
            "\n",
            "Epoch: 34 \tTraining Loss: 157.6173 \tValidation Loss: 158.9340\n",
            "\n",
            "Epoch: 35 \tTraining Loss: 157.4581 \tValidation Loss: 158.2626\n",
            "\n",
            "Epoch: 36 \tTraining Loss: 156.3421 \tValidation Loss: 157.7752\n",
            "\n",
            "Epoch: 37 \tTraining Loss: 155.7720 \tValidation Loss: 157.2572\n",
            "\n",
            "Epoch: 38 \tTraining Loss: 154.7721 \tValidation Loss: 160.5190\n",
            "\n",
            "Epoch: 39 \tTraining Loss: 154.5751 \tValidation Loss: 156.4062\n",
            "\n",
            "Epoch: 40 \tTraining Loss: 152.9807 \tValidation Loss: 159.8742\n",
            "\n",
            "Epoch: 41 \tTraining Loss: 152.9028 \tValidation Loss: 155.7264\n",
            "\n",
            "Epoch: 42 \tTraining Loss: 152.2529 \tValidation Loss: 155.5300\n",
            "\n",
            "Epoch: 43 \tTraining Loss: 152.9837 \tValidation Loss: 155.4128\n",
            "\n",
            "Epoch: 44 \tTraining Loss: 151.7677 \tValidation Loss: 156.0521\n",
            "\n",
            "Epoch: 45 \tTraining Loss: 150.2286 \tValidation Loss: 155.8514\n",
            "\n",
            "Epoch: 46 \tTraining Loss: 150.6757 \tValidation Loss: 154.3959\n",
            "\n",
            "Epoch: 47 \tTraining Loss: 149.8216 \tValidation Loss: 154.3726\n",
            "\n",
            "Epoch: 48 \tTraining Loss: 149.3536 \tValidation Loss: 155.8576\n",
            "\n",
            "Epoch: 49 \tTraining Loss: 149.8884 \tValidation Loss: 153.5798\n",
            "\n",
            "Epoch: 50 \tTraining Loss: 148.4235 \tValidation Loss: 153.2953\n",
            "\n",
            "Epoch: 51 \tTraining Loss: 148.2365 \tValidation Loss: 154.1768\n",
            "\n",
            "Epoch: 52 \tTraining Loss: 149.2176 \tValidation Loss: 153.1241\n",
            "\n",
            "Epoch: 53 \tTraining Loss: 147.7149 \tValidation Loss: 152.7686\n",
            "\n",
            "Epoch: 54 \tTraining Loss: 148.2915 \tValidation Loss: 152.5566\n",
            "\n",
            "Epoch: 55 \tTraining Loss: 147.5668 \tValidation Loss: 159.0120\n",
            "\n",
            "Epoch: 56 \tTraining Loss: 147.2047 \tValidation Loss: 154.7698\n",
            "\n",
            "Epoch: 57 \tTraining Loss: 146.1876 \tValidation Loss: 152.2836\n",
            "\n",
            "Epoch: 58 \tTraining Loss: 145.5985 \tValidation Loss: 151.8414\n",
            "\n",
            "Epoch: 59 \tTraining Loss: 145.6426 \tValidation Loss: 151.8653\n",
            "\n",
            "Epoch: 60 \tTraining Loss: 145.4308 \tValidation Loss: 154.9937\n",
            "\n",
            "Epoch: 61 \tTraining Loss: 146.8170 \tValidation Loss: 157.8917\n",
            "\n",
            "Epoch: 62 \tTraining Loss: 144.8059 \tValidation Loss: 151.4700\n",
            "\n",
            "Epoch: 63 \tTraining Loss: 145.7714 \tValidation Loss: 151.4686\n",
            "\n",
            "Epoch: 64 \tTraining Loss: 145.2015 \tValidation Loss: 151.2140\n",
            "\n",
            "Epoch: 65 \tTraining Loss: 145.0368 \tValidation Loss: 151.3514\n",
            "\n",
            "Epoch: 66 \tTraining Loss: 144.5659 \tValidation Loss: 151.8036\n",
            "\n",
            "Epoch: 67 \tTraining Loss: 143.9291 \tValidation Loss: 153.2105\n",
            "\n",
            "Epoch: 68 \tTraining Loss: 143.9909 \tValidation Loss: 150.9289\n",
            "\n",
            "Epoch: 69 \tTraining Loss: 143.6584 \tValidation Loss: 151.3728\n",
            "\n",
            "Epoch: 70 \tTraining Loss: 145.2142 \tValidation Loss: 150.6923\n",
            "\n",
            "Epoch: 71 \tTraining Loss: 143.5844 \tValidation Loss: 150.5854\n",
            "\n",
            "Epoch: 72 \tTraining Loss: 143.5101 \tValidation Loss: 151.7322\n",
            "\n",
            "Epoch: 73 \tTraining Loss: 143.4911 \tValidation Loss: 152.0456\n",
            "\n",
            "Epoch: 74 \tTraining Loss: 143.0708 \tValidation Loss: 151.9426\n",
            "\n",
            "Epoch: 75 \tTraining Loss: 143.1952 \tValidation Loss: 151.2689\n",
            "\n",
            "Epoch: 76 \tTraining Loss: 143.3636 \tValidation Loss: 150.4965\n",
            "\n",
            "Epoch: 77 \tTraining Loss: 143.0268 \tValidation Loss: 150.9079\n",
            "\n",
            "Epoch: 78 \tTraining Loss: 142.6791 \tValidation Loss: 150.3103\n",
            "\n",
            "Epoch: 79 \tTraining Loss: 142.9546 \tValidation Loss: 150.2705\n",
            "\n",
            "Epoch: 80 \tTraining Loss: 142.4830 \tValidation Loss: 153.9912\n",
            "\n",
            "Epoch: 81 \tTraining Loss: 143.2821 \tValidation Loss: 150.3493\n",
            "\n",
            "Epoch: 82 \tTraining Loss: 143.6009 \tValidation Loss: 157.8231\n",
            "\n",
            "Epoch: 83 \tTraining Loss: 143.6717 \tValidation Loss: 151.8802\n",
            "\n",
            "Epoch: 84 \tTraining Loss: 142.1744 \tValidation Loss: 150.6287\n",
            "\n",
            "Epoch: 85 \tTraining Loss: 142.1604 \tValidation Loss: 150.1948\n",
            "\n",
            "Epoch: 86 \tTraining Loss: 142.1005 \tValidation Loss: 152.5524\n",
            "\n",
            "Epoch: 87 \tTraining Loss: 142.1256 \tValidation Loss: 163.2849\n",
            "\n",
            "Epoch: 88 \tTraining Loss: 142.6081 \tValidation Loss: 150.1303\n",
            "\n",
            "Epoch: 89 \tTraining Loss: 143.4158 \tValidation Loss: 150.0761\n",
            "\n",
            "Epoch: 90 \tTraining Loss: 141.7451 \tValidation Loss: 150.1288\n",
            "\n",
            "Epoch: 91 \tTraining Loss: 143.2780 \tValidation Loss: 149.9700\n",
            "\n",
            "Epoch: 92 \tTraining Loss: 141.5365 \tValidation Loss: 150.7826\n",
            "\n",
            "Epoch: 93 \tTraining Loss: 141.7007 \tValidation Loss: 150.2270\n",
            "\n",
            "Epoch: 94 \tTraining Loss: 142.2689 \tValidation Loss: 150.4304\n",
            "\n",
            "Epoch: 95 \tTraining Loss: 141.0539 \tValidation Loss: 150.3483\n",
            "\n",
            "Epoch: 96 \tTraining Loss: 141.7152 \tValidation Loss: 149.9006\n",
            "\n",
            "Epoch: 97 \tTraining Loss: 141.3543 \tValidation Loss: 152.8058\n",
            "\n",
            "Epoch: 98 \tTraining Loss: 141.6541 \tValidation Loss: 149.9305\n",
            "\n",
            "Epoch: 99 \tTraining Loss: 141.9928 \tValidation Loss: 150.3026\n",
            "\n",
            "Epoch: 100 \tTraining Loss: 141.8114 \tValidation Loss: 151.1749\n",
            "\n",
            "Epoch: 101 \tTraining Loss: 142.0474 \tValidation Loss: 149.9768\n",
            "\n",
            "Epoch: 102 \tTraining Loss: 141.7651 \tValidation Loss: 163.5058\n",
            "\n",
            "Epoch: 103 \tTraining Loss: 142.4273 \tValidation Loss: 149.8047\n",
            "\n",
            "Epoch: 104 \tTraining Loss: 141.3589 \tValidation Loss: 150.9525\n",
            "\n",
            "Epoch: 105 \tTraining Loss: 142.2403 \tValidation Loss: 150.1799\n",
            "\n",
            "Epoch: 106 \tTraining Loss: 141.1513 \tValidation Loss: 149.9298\n",
            "\n",
            "Epoch: 107 \tTraining Loss: 140.9753 \tValidation Loss: 149.8304\n",
            "\n",
            "Epoch: 108 \tTraining Loss: 141.9540 \tValidation Loss: 151.3105\n",
            "\n",
            "Epoch: 109 \tTraining Loss: 141.2145 \tValidation Loss: 151.7051\n",
            "\n",
            "Epoch: 110 \tTraining Loss: 141.7466 \tValidation Loss: 150.4175\n",
            "\n",
            "Epoch: 111 \tTraining Loss: 141.0307 \tValidation Loss: 150.3317\n",
            "\n",
            "Epoch: 112 \tTraining Loss: 141.0854 \tValidation Loss: 151.3806\n",
            "\n",
            "Epoch: 113 \tTraining Loss: 141.4010 \tValidation Loss: 150.6631\n",
            "\n",
            "Early Stopping! Total epochs: 113. Best epoch: 103 with loss: 149.80471\n"
          ],
          "name": "stdout"
        }
      ]
    },
    {
      "cell_type": "code",
      "metadata": {
        "colab": {
          "base_uri": "https://localhost:8080/",
          "height": 618
        },
        "id": "qYm6loJgQ0Er",
        "outputId": "33421c9d-6556-4913-f07a-cf512baaae49"
      },
      "source": [
        "plot_loss(history)\n",
        "y_pred = test(model, test_loader)\n",
        "# for i in range(10):\n",
        "#   print((y_pred[i], y_test[i]))\n",
        "mse = mean_squared_error(y_test, y_pred)\n",
        "r_square = r2_score(y_test, y_pred)\n",
        "print(\"Mean Squared Error :\",mse)\n",
        "print(\"R^2 :\",r_square)"
      ],
      "execution_count": null,
      "outputs": [
        {
          "output_type": "display_data",
          "data": {
            "image/png": "[encoded data removed]",
            "text/plain": [
              "<Figure size 576x432 with 1 Axes>"
            ]
          },
          "metadata": {
            "tags": [],
            "needs_background": "light"
          }
        },
        {
          "output_type": "stream",
          "text": [
            "([102.80130767822266, 100.46253967285156], array([111., 120.]))\n",
            "([113.97669219970703, 111.3792495727539], array([121., 111.]))\n",
            "([111.40335083007812, 108.865478515625], array([117., 104.]))\n",
            "([109.31849670410156, 106.82887268066406], array([112., 127.]))\n",
            "([109.19841766357422, 106.71157836914062], array([ 79., 109.]))\n",
            "([101.55472564697266, 99.24480438232422], array([103.,  89.]))\n",
            "([107.09207916259766, 104.65399169921875], array([118., 109.]))\n",
            "([110.62157440185547, 108.10179138183594], array([114.,  98.]))\n",
            "([111.7173843383789, 109.1722412109375], array([123., 112.]))\n",
            "([114.9141845703125, 112.2950439453125], array([135., 133.]))\n",
            "Mean Squared Error : 136.95111190818568\n",
            "R^2 : 0.10767465432954093\n"
          ],
          "name": "stdout"
        }
      ]
    },
    {
      "cell_type": "code",
      "metadata": {
        "colab": {
          "base_uri": "https://localhost:8080/"
        },
        "id": "ckTo9iS2aBRh",
        "outputId": "468d7668-deca-4bd4-89ee-340a6eb23bbc"
      },
      "source": [
        "columns = X.columns\n",
        "\n",
        "print(test_net_spreads(model, columns, betting, games, 10))"
      ],
      "execution_count": null,
      "outputs": [
        {
          "output_type": "stream",
          "text": [
            "{'o/u': 49.7089481521592, 'spread': 50.38581291457967}\n"
          ],
          "name": "stdout"
        }
      ]
    },
    {
      "cell_type": "markdown",
      "metadata": {
        "id": "jNHzbocKaj8t"
      },
      "source": [
        "Now with all features"
      ]
    },
    {
      "cell_type": "code",
      "metadata": {
        "id": "iSf7jdARa6pL"
      },
      "source": [
        "pts_data = games.loc[games['SEASON'].isin(range(2010, 2020))]\n",
        "Y = pts_data[['PTS_home', 'PTS_away']]\n",
        "for i in pts_data:\n",
        "  if not ('AVG' in i or 'L10' in i):\n",
        "    pts_data = pts_data.drop([i], 1)\n",
        "X = pts_data\n",
        "#pts_data[['HOME_TEAM_WINS']]\n",
        "\n",
        "# Train - Test\n",
        "X_trainval, X_test, y_trainval, y_test = train_test_split(X, Y, test_size=0.2, random_state=69)\n",
        "# Split train into train-val\n",
        "X_train, X_val, y_train, y_val = train_test_split(X_trainval, y_trainval, test_size=0.1, random_state=21)\n",
        "\n",
        "scaler = MinMaxScaler()\n",
        "X_train = scaler.fit_transform(X_train)\n",
        "X_val = scaler.transform(X_val)\n",
        "X_test = scaler.transform(X_test)\n",
        "X_train, y_train = np.array(X_train), np.array(y_train)\n",
        "X_val, y_val = np.array(X_val), np.array(y_val)\n",
        "X_test, y_test = np.array(X_test), np.array(y_test)\n",
        "y_train, y_test, y_val = y_train.astype(float), y_test.astype(float), y_val.astype(float)"
      ],
      "execution_count": null,
      "outputs": []
    },
    {
      "cell_type": "code",
      "metadata": {
        "colab": {
          "base_uri": "https://localhost:8080/"
        },
        "id": "uTGWvJCodO-Y",
        "outputId": "4d559c43-1744-4d02-e8af-dc7b10b5592a"
      },
      "source": [
        "print(X.shape)"
      ],
      "execution_count": null,
      "outputs": [
        {
          "output_type": "stream",
          "text": [
            "(8240, 52)\n"
          ],
          "name": "stdout"
        }
      ]
    },
    {
      "cell_type": "code",
      "metadata": {
        "id": "Fsz-kTlba6pi"
      },
      "source": [
        "train_dataset = RegressionDataset(torch.from_numpy(X_train).float(), torch.from_numpy(y_train).float())\n",
        "val_dataset = RegressionDataset(torch.from_numpy(X_val).float(), torch.from_numpy(y_val).float())\n",
        "test_dataset = RegressionDataset(torch.from_numpy(X_test).float(), torch.from_numpy(y_test).float())\n",
        "\n",
        "batch_size = 25\n",
        "\n",
        "train_loader = DataLoader(dataset=train_dataset, batch_size=batch_size, shuffle=True)\n",
        "val_loader = DataLoader(dataset=val_dataset, batch_size=1)\n",
        "test_loader = DataLoader(dataset=test_dataset, batch_size=1)"
      ],
      "execution_count": null,
      "outputs": []
    },
    {
      "cell_type": "code",
      "metadata": {
        "id": "XnAKTblEa6pj"
      },
      "source": [
        "# define model\n",
        "# plan to input each teams PPG for the season, PPG last 10 game, PAPG for the season, PAPG last 10 games\n",
        "class ScoresModelV3(nn.Module):\n",
        "    def __init__(self, nin, nout):\n",
        "        super(ScoresModelV3, self).__init__()\n",
        "        \n",
        "        self.lin1 = nn.Linear(nin, 100)\n",
        "        self.lin2 = nn.Linear(100, 75)\n",
        "        self.lin3 = nn.Linear(75, 52)\n",
        "        self.lin4 = nn.Linear(52, 16)\n",
        "        self.lin5 = nn.Linear(16, 4)\n",
        "        self.out = nn.Linear(4, nout)\n",
        "\n",
        "        self.relu = nn.ReLU()\n",
        "        self.dropout = nn.Dropout(.5)\n",
        "\n",
        "    def forward(self, x):\n",
        "        x = self.relu(self.lin1(x))\n",
        "        x = self.dropout(x)\n",
        "        x = self.relu(self.lin2(x))\n",
        "        x = self.dropout(x)\n",
        "        x = self.relu(self.lin3(x))\n",
        "        x = self.dropout(x)\n",
        "        x = self.relu(self.lin4(x))\n",
        "        x = self.dropout(x)\n",
        "        x = self.relu(self.lin5(x))\n",
        "        x = self.out(x)\n",
        "        return x"
      ],
      "execution_count": null,
      "outputs": []
    },
    {
      "cell_type": "code",
      "metadata": {
        "colab": {
          "base_uri": "https://localhost:8080/"
        },
        "id": "giIXOnHya6pk",
        "outputId": "be3cf7d6-312c-40a4-ecda-f2650107e464"
      },
      "source": [
        "lr = .001\n",
        "nin = len(X.columns)\n",
        "nout = len(Y.columns)\n",
        "\n",
        "model = ScoresModelV3(nin, nout)\n",
        "epochs = 150\n",
        "\n",
        "device = torch.device(\"cuda:0\" if torch.cuda.is_available() else \"cpu\")\n",
        "print(device)\n",
        "\n",
        "model.to(device)\n",
        "\n",
        "criterion = nn.MSELoss()\n",
        "optimizer = optim.Adam(model.parameters(), lr=lr)\n",
        "\n",
        "model, history = train(\n",
        "    model, \n",
        "    criterion, \n",
        "    optimizer, \n",
        "    train_loader, \n",
        "    val_loader, \n",
        "    n_epochs=epochs)"
      ],
      "execution_count": null,
      "outputs": [
        {
          "output_type": "stream",
          "text": [
            "cuda:0\n"
          ],
          "name": "stdout"
        },
        {
          "output_type": "execute_result",
          "data": {
            "text/plain": [
              "ScoresModelV3(\n",
              "  (lin1): Linear(in_features=52, out_features=100, bias=True)\n",
              "  (lin2): Linear(in_features=100, out_features=75, bias=True)\n",
              "  (lin3): Linear(in_features=75, out_features=52, bias=True)\n",
              "  (lin4): Linear(in_features=52, out_features=16, bias=True)\n",
              "  (lin5): Linear(in_features=16, out_features=4, bias=True)\n",
              "  (out): Linear(in_features=4, out_features=2, bias=True)\n",
              "  (relu): ReLU()\n",
              "  (dropout): Dropout(p=0.5, inplace=False)\n",
              ")"
            ]
          },
          "metadata": {
            "tags": []
          },
          "execution_count": 298
        },
        {
          "output_type": "stream",
          "text": [
            "Starting Training from Scratch.\n",
            "\n",
            "\n",
            "Epoch: 0 \tTraining Loss: 3105.3920 \tValidation Loss: 573.0261\n",
            "\n",
            "Epoch: 1 \tTraining Loss: 1381.8805 \tValidation Loss: 753.7540\n",
            "\n",
            "Epoch: 2 \tTraining Loss: 1228.8467 \tValidation Loss: 1348.4237\n",
            "\n",
            "Epoch: 3 \tTraining Loss: 1132.4418 \tValidation Loss: 1757.8172\n",
            "\n",
            "Epoch: 4 \tTraining Loss: 1102.8595 \tValidation Loss: 1668.3127\n",
            "\n",
            "Epoch: 5 \tTraining Loss: 1010.3030 \tValidation Loss: 1598.4186\n",
            "\n",
            "Epoch: 6 \tTraining Loss: 1002.7076 \tValidation Loss: 1973.8024\n",
            "\n",
            "Epoch: 7 \tTraining Loss: 1000.5432 \tValidation Loss: 2300.0458\n",
            "\n",
            "Epoch: 8 \tTraining Loss: 931.8177 \tValidation Loss: 1746.9245\n",
            "\n",
            "Epoch: 9 \tTraining Loss: 925.7066 \tValidation Loss: 1854.4044\n",
            "\n",
            "Epoch: 10 \tTraining Loss: 901.8805 \tValidation Loss: 1596.6259\n",
            "\n",
            "Epoch: 11 \tTraining Loss: 833.7618 \tValidation Loss: 1596.3336\n",
            "\n",
            "Epoch: 12 \tTraining Loss: 801.3479 \tValidation Loss: 1764.9359\n",
            "\n",
            "Epoch: 13 \tTraining Loss: 753.6256 \tValidation Loss: 1639.0279\n",
            "\n",
            "Epoch: 14 \tTraining Loss: 732.4100 \tValidation Loss: 1184.7133\n",
            "\n",
            "Epoch: 15 \tTraining Loss: 667.2606 \tValidation Loss: 1618.4009\n",
            "\n",
            "Epoch: 16 \tTraining Loss: 640.2834 \tValidation Loss: 1713.1083\n",
            "\n",
            "Epoch: 17 \tTraining Loss: 580.6920 \tValidation Loss: 1998.5510\n",
            "\n",
            "Epoch: 18 \tTraining Loss: 553.1414 \tValidation Loss: 1676.7048\n",
            "\n",
            "Epoch: 19 \tTraining Loss: 532.4528 \tValidation Loss: 1823.8109\n",
            "\n",
            "Epoch: 20 \tTraining Loss: 516.4283 \tValidation Loss: 1475.3745\n",
            "\n",
            "Epoch: 21 \tTraining Loss: 491.6185 \tValidation Loss: 1500.4761\n",
            "\n",
            "Epoch: 22 \tTraining Loss: 449.9709 \tValidation Loss: 1261.7228\n",
            "\n",
            "Epoch: 23 \tTraining Loss: 446.7865 \tValidation Loss: 1480.1307\n",
            "\n",
            "Epoch: 24 \tTraining Loss: 428.3771 \tValidation Loss: 1377.8048\n",
            "\n",
            "Epoch: 25 \tTraining Loss: 397.3664 \tValidation Loss: 1137.1072\n",
            "\n",
            "Epoch: 26 \tTraining Loss: 382.3278 \tValidation Loss: 1190.1661\n",
            "\n",
            "Epoch: 27 \tTraining Loss: 363.4424 \tValidation Loss: 1232.3023\n",
            "\n",
            "Epoch: 28 \tTraining Loss: 346.7562 \tValidation Loss: 1123.3420\n",
            "\n",
            "Epoch: 29 \tTraining Loss: 336.4663 \tValidation Loss: 1207.8018\n",
            "\n",
            "Epoch: 30 \tTraining Loss: 327.8204 \tValidation Loss: 1263.1641\n",
            "\n",
            "Epoch: 31 \tTraining Loss: 307.1709 \tValidation Loss: 1090.0275\n",
            "\n",
            "Epoch: 32 \tTraining Loss: 291.8359 \tValidation Loss: 1139.9508\n",
            "\n",
            "Epoch: 33 \tTraining Loss: 271.9360 \tValidation Loss: 1008.2585\n",
            "\n",
            "Epoch: 34 \tTraining Loss: 264.7648 \tValidation Loss: 914.0598\n",
            "\n",
            "Epoch: 35 \tTraining Loss: 247.3625 \tValidation Loss: 878.8978\n",
            "\n",
            "Epoch: 36 \tTraining Loss: 235.1420 \tValidation Loss: 811.8996\n",
            "\n",
            "Epoch: 37 \tTraining Loss: 222.7944 \tValidation Loss: 795.1381\n",
            "\n",
            "Epoch: 38 \tTraining Loss: 210.2768 \tValidation Loss: 707.5677\n",
            "\n",
            "Epoch: 39 \tTraining Loss: 206.9355 \tValidation Loss: 648.7228\n",
            "\n",
            "Epoch: 40 \tTraining Loss: 195.9175 \tValidation Loss: 634.2617\n",
            "\n",
            "Epoch: 41 \tTraining Loss: 186.5608 \tValidation Loss: 603.4502\n",
            "\n",
            "Epoch: 42 \tTraining Loss: 180.3612 \tValidation Loss: 593.0321\n",
            "\n",
            "Epoch: 43 \tTraining Loss: 171.2730 \tValidation Loss: 493.1511\n",
            "\n",
            "Epoch: 44 \tTraining Loss: 166.6230 \tValidation Loss: 477.2890\n",
            "\n",
            "Epoch: 45 \tTraining Loss: 163.1547 \tValidation Loss: 474.2340\n",
            "\n",
            "Epoch: 46 \tTraining Loss: 158.6926 \tValidation Loss: 388.4390\n",
            "\n",
            "Epoch: 47 \tTraining Loss: 154.3002 \tValidation Loss: 366.0794\n",
            "\n",
            "Epoch: 48 \tTraining Loss: 152.1797 \tValidation Loss: 357.2188\n",
            "\n",
            "Epoch: 49 \tTraining Loss: 148.5683 \tValidation Loss: 357.2972\n",
            "\n",
            "Epoch: 50 \tTraining Loss: 146.6301 \tValidation Loss: 302.6344\n",
            "\n",
            "Epoch: 51 \tTraining Loss: 146.2115 \tValidation Loss: 332.0507\n",
            "\n",
            "Epoch: 52 \tTraining Loss: 145.5251 \tValidation Loss: 318.3721\n",
            "\n",
            "Epoch: 53 \tTraining Loss: 143.7799 \tValidation Loss: 291.6956\n",
            "\n",
            "Epoch: 54 \tTraining Loss: 142.3933 \tValidation Loss: 295.9061\n",
            "\n",
            "Epoch: 55 \tTraining Loss: 142.3006 \tValidation Loss: 272.9617\n",
            "\n",
            "Epoch: 56 \tTraining Loss: 141.8890 \tValidation Loss: 254.0295\n",
            "\n",
            "Epoch: 57 \tTraining Loss: 140.0893 \tValidation Loss: 270.6489\n",
            "\n",
            "Epoch: 58 \tTraining Loss: 141.4712 \tValidation Loss: 289.2449\n",
            "\n",
            "Epoch: 59 \tTraining Loss: 141.4754 \tValidation Loss: 265.2993\n",
            "\n",
            "Epoch: 60 \tTraining Loss: 141.3459 \tValidation Loss: 247.0070\n",
            "\n",
            "Epoch: 61 \tTraining Loss: 141.2716 \tValidation Loss: 240.2195\n",
            "\n",
            "Epoch: 62 \tTraining Loss: 140.7745 \tValidation Loss: 219.7260\n",
            "\n",
            "Epoch: 63 \tTraining Loss: 139.3828 \tValidation Loss: 206.3507\n",
            "\n",
            "Epoch: 64 \tTraining Loss: 140.3995 \tValidation Loss: 198.4736\n",
            "\n",
            "Epoch: 65 \tTraining Loss: 140.1927 \tValidation Loss: 196.6191\n",
            "\n",
            "Epoch: 66 \tTraining Loss: 139.2319 \tValidation Loss: 201.4075\n",
            "\n",
            "Epoch: 67 \tTraining Loss: 140.0580 \tValidation Loss: 195.1929\n",
            "\n",
            "Epoch: 68 \tTraining Loss: 139.6922 \tValidation Loss: 189.5120\n",
            "\n",
            "Epoch: 69 \tTraining Loss: 140.4828 \tValidation Loss: 190.9614\n",
            "\n",
            "Epoch: 70 \tTraining Loss: 139.3562 \tValidation Loss: 172.8320\n",
            "\n",
            "Epoch: 71 \tTraining Loss: 139.3354 \tValidation Loss: 189.2388\n",
            "\n",
            "Epoch: 72 \tTraining Loss: 138.1872 \tValidation Loss: 171.3421\n",
            "\n",
            "Epoch: 73 \tTraining Loss: 138.9187 \tValidation Loss: 175.8162\n",
            "\n",
            "Epoch: 74 \tTraining Loss: 137.7321 \tValidation Loss: 174.9243\n",
            "\n",
            "Epoch: 75 \tTraining Loss: 138.4240 \tValidation Loss: 164.1358\n",
            "\n",
            "Epoch: 76 \tTraining Loss: 138.2597 \tValidation Loss: 168.0182\n",
            "\n",
            "Epoch: 77 \tTraining Loss: 138.5852 \tValidation Loss: 164.8887\n",
            "\n",
            "Epoch: 78 \tTraining Loss: 138.3210 \tValidation Loss: 173.4403\n",
            "\n",
            "Epoch: 79 \tTraining Loss: 138.7263 \tValidation Loss: 172.0975\n",
            "\n",
            "Epoch: 80 \tTraining Loss: 138.7565 \tValidation Loss: 155.5797\n",
            "\n",
            "Epoch: 81 \tTraining Loss: 137.7044 \tValidation Loss: 165.6548\n",
            "\n",
            "Epoch: 82 \tTraining Loss: 137.6208 \tValidation Loss: 162.5419\n",
            "\n",
            "Epoch: 83 \tTraining Loss: 137.3010 \tValidation Loss: 177.5252\n",
            "\n",
            "Epoch: 84 \tTraining Loss: 138.2505 \tValidation Loss: 163.3098\n",
            "\n",
            "Epoch: 85 \tTraining Loss: 138.4615 \tValidation Loss: 163.4927\n",
            "\n",
            "Epoch: 86 \tTraining Loss: 137.6746 \tValidation Loss: 183.4184\n",
            "\n",
            "Epoch: 87 \tTraining Loss: 137.8752 \tValidation Loss: 178.2669\n",
            "\n",
            "Epoch: 88 \tTraining Loss: 137.3835 \tValidation Loss: 170.6610\n",
            "\n",
            "Epoch: 89 \tTraining Loss: 138.1477 \tValidation Loss: 176.0003\n",
            "\n",
            "Epoch: 90 \tTraining Loss: 137.7518 \tValidation Loss: 186.6557\n",
            "\n",
            "Epoch: 91 \tTraining Loss: 136.9348 \tValidation Loss: 176.1461\n",
            "\n",
            "Epoch: 92 \tTraining Loss: 137.7041 \tValidation Loss: 162.3829\n",
            "\n",
            "Epoch: 93 \tTraining Loss: 137.3477 \tValidation Loss: 177.9683\n",
            "\n",
            "Epoch: 94 \tTraining Loss: 137.0430 \tValidation Loss: 177.7231\n",
            "\n",
            "Epoch: 95 \tTraining Loss: 138.5057 \tValidation Loss: 172.4778\n",
            "\n",
            "Epoch: 96 \tTraining Loss: 137.1728 \tValidation Loss: 177.4138\n",
            "\n",
            "Epoch: 97 \tTraining Loss: 137.6816 \tValidation Loss: 188.9997\n",
            "\n",
            "Epoch: 98 \tTraining Loss: 137.5681 \tValidation Loss: 182.4508\n",
            "\n",
            "Epoch: 99 \tTraining Loss: 136.6721 \tValidation Loss: 174.8657\n",
            "\n",
            "Epoch: 100 \tTraining Loss: 136.7208 \tValidation Loss: 167.9373\n",
            "\n",
            "Epoch: 101 \tTraining Loss: 137.2068 \tValidation Loss: 165.9667\n",
            "\n",
            "Epoch: 102 \tTraining Loss: 136.7665 \tValidation Loss: 167.6022\n",
            "\n",
            "Epoch: 103 \tTraining Loss: 137.1104 \tValidation Loss: 156.6775\n",
            "\n",
            "Epoch: 104 \tTraining Loss: 137.1839 \tValidation Loss: 158.3017\n",
            "\n",
            "Epoch: 105 \tTraining Loss: 137.0497 \tValidation Loss: 160.8934\n",
            "\n",
            "Epoch: 106 \tTraining Loss: 137.4444 \tValidation Loss: 168.3216\n",
            "\n",
            "Epoch: 107 \tTraining Loss: 137.2573 \tValidation Loss: 167.3921\n",
            "\n",
            "Epoch: 108 \tTraining Loss: 136.5617 \tValidation Loss: 181.0281\n",
            "\n",
            "Epoch: 109 \tTraining Loss: 136.5281 \tValidation Loss: 164.6795\n",
            "\n",
            "Epoch: 110 \tTraining Loss: 137.4466 \tValidation Loss: 161.0384\n",
            "\n",
            "Epoch: 111 \tTraining Loss: 137.6236 \tValidation Loss: 176.3522\n",
            "\n",
            "Epoch: 112 \tTraining Loss: 136.7436 \tValidation Loss: 175.5358\n",
            "\n",
            "Epoch: 113 \tTraining Loss: 137.0977 \tValidation Loss: 170.4392\n",
            "\n",
            "Epoch: 114 \tTraining Loss: 136.2963 \tValidation Loss: 167.2606\n",
            "\n",
            "Epoch: 115 \tTraining Loss: 136.5753 \tValidation Loss: 173.7346\n",
            "\n",
            "Epoch: 116 \tTraining Loss: 136.6699 \tValidation Loss: 162.9001\n",
            "\n",
            "Epoch: 117 \tTraining Loss: 136.0209 \tValidation Loss: 169.4703\n",
            "\n",
            "Epoch: 118 \tTraining Loss: 136.4711 \tValidation Loss: 161.3208\n",
            "\n",
            "Epoch: 119 \tTraining Loss: 136.7380 \tValidation Loss: 174.9527\n",
            "\n",
            "Epoch: 120 \tTraining Loss: 136.3256 \tValidation Loss: 164.9160\n",
            "\n",
            "Epoch: 121 \tTraining Loss: 136.3657 \tValidation Loss: 174.8996\n",
            "\n",
            "Epoch: 122 \tTraining Loss: 136.7045 \tValidation Loss: 171.6953\n",
            "\n",
            "Epoch: 123 \tTraining Loss: 136.3757 \tValidation Loss: 167.9560\n",
            "\n",
            "Epoch: 124 \tTraining Loss: 136.0449 \tValidation Loss: 176.5746\n",
            "\n",
            "Epoch: 125 \tTraining Loss: 136.8871 \tValidation Loss: 180.7219\n",
            "\n",
            "Epoch: 126 \tTraining Loss: 136.2182 \tValidation Loss: 169.1829\n",
            "\n",
            "Epoch: 127 \tTraining Loss: 136.0541 \tValidation Loss: 189.7179\n",
            "\n",
            "Epoch: 128 \tTraining Loss: 136.1318 \tValidation Loss: 176.4046\n",
            "\n",
            "Epoch: 129 \tTraining Loss: 137.3525 \tValidation Loss: 182.2856\n",
            "\n",
            "Epoch: 130 \tTraining Loss: 136.3031 \tValidation Loss: 174.6416\n",
            "\n",
            "Epoch: 131 \tTraining Loss: 136.3850 \tValidation Loss: 169.1557\n",
            "\n",
            "Epoch: 132 \tTraining Loss: 136.0999 \tValidation Loss: 171.9211\n",
            "\n",
            "Epoch: 133 \tTraining Loss: 136.4620 \tValidation Loss: 176.9652\n",
            "\n",
            "Epoch: 134 \tTraining Loss: 135.6971 \tValidation Loss: 170.2441\n",
            "\n",
            "Epoch: 135 \tTraining Loss: 137.3182 \tValidation Loss: 182.1353\n",
            "\n",
            "Epoch: 136 \tTraining Loss: 136.4239 \tValidation Loss: 171.2836\n",
            "\n",
            "Epoch: 137 \tTraining Loss: 136.7721 \tValidation Loss: 164.8733\n",
            "\n",
            "Epoch: 138 \tTraining Loss: 136.9735 \tValidation Loss: 165.1264\n",
            "\n",
            "Epoch: 139 \tTraining Loss: 136.7059 \tValidation Loss: 174.8111\n",
            "\n",
            "Epoch: 140 \tTraining Loss: 135.3541 \tValidation Loss: 155.0354\n",
            "\n",
            "Epoch: 141 \tTraining Loss: 136.3897 \tValidation Loss: 160.4624\n",
            "\n",
            "Epoch: 142 \tTraining Loss: 135.8039 \tValidation Loss: 172.2744\n",
            "\n",
            "Epoch: 143 \tTraining Loss: 136.2958 \tValidation Loss: 167.2799\n",
            "\n",
            "Epoch: 144 \tTraining Loss: 136.2937 \tValidation Loss: 165.1034\n",
            "\n",
            "Epoch: 145 \tTraining Loss: 136.8624 \tValidation Loss: 162.8108\n",
            "\n",
            "Epoch: 146 \tTraining Loss: 136.8300 \tValidation Loss: 173.8508\n",
            "\n",
            "Epoch: 147 \tTraining Loss: 135.9211 \tValidation Loss: 165.4253\n",
            "\n",
            "Epoch: 148 \tTraining Loss: 136.6397 \tValidation Loss: 160.8531\n",
            "\n",
            "Epoch: 149 \tTraining Loss: 136.6242 \tValidation Loss: 166.8145\n"
          ],
          "name": "stdout"
        }
      ]
    },
    {
      "cell_type": "code",
      "metadata": {
        "colab": {
          "base_uri": "https://localhost:8080/",
          "height": 404
        },
        "id": "dpMkhaS_a6pl",
        "outputId": "007d6606-7e3c-4af0-ffa0-63a57e5a40ba"
      },
      "source": [
        "plot_loss(history)"
      ],
      "execution_count": null,
      "outputs": [
        {
          "output_type": "display_data",
          "data": {
            "image/png": "[encoded data removed]",
            "text/plain": [
              "<Figure size 576x432 with 1 Axes>"
            ]
          },
          "metadata": {
            "tags": [],
            "needs_background": "light"
          }
        }
      ]
    },
    {
      "cell_type": "code",
      "metadata": {
        "colab": {
          "base_uri": "https://localhost:8080/"
        },
        "id": "uyRBKFkXa6pm",
        "outputId": "660f2ddd-554d-4900-f26b-08a8655f7c51"
      },
      "source": [
        "y_pred = test(model, test_loader)\n",
        "# for i in range(len(y_pred)):\n",
        "#   print((y_pred[i], y_test[i]))\n",
        "mse = mean_squared_error(y_test, y_pred)\n",
        "r_square = r2_score(y_test, y_pred)\n",
        "print(\"Mean Squared Error :\",mse)\n",
        "print(\"R^2 :\",r_square)"
      ],
      "execution_count": null,
      "outputs": [
        {
          "output_type": "stream",
          "text": [
            "Mean Squared Error : 173.60527168555674\n",
            "R^2 : -0.01638117801554939\n"
          ],
          "name": "stdout"
        }
      ]
    }
  ]
}